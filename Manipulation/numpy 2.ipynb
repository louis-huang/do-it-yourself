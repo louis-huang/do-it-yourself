{
 "cells": [
  {
   "cell_type": "code",
   "execution_count": 1,
   "metadata": {
    "_cell_guid": "b1076dfc-b9ad-4769-8c92-a6c4dae69d19",
    "_uuid": "8f2839f25d086af736a60e9eeb907d3b93b6e0e5",
    "collapsed": true
   },
   "outputs": [],
   "source": [
    "import numpy as np # linear algebra\n",
    "import pandas as pd # data processing, CSV file I/O (e.g. pd.read_csv)\n"
   ]
  },
  {
   "cell_type": "markdown",
   "metadata": {
    "_cell_guid": "79c7e3d0-c299-4dcb-8224-4455121ee9b0",
    "_uuid": "d629ff2d2480ee46fbb7e2d37f6b5fab8052498a",
    "collapsed": true
   },
   "source": [
    "# Table of Contents\n",
    "1.[file with array](#file)\n",
    "\n",
    "2.[Linear Algebra](#Linear)\n",
    "   \n",
    "   [multiplication](#multiplication)\n",
    "   \n",
    "   [inverse](#inverse)\n",
    "   \n",
    "   [other useful functions](#useful)\n",
    "   \n",
    "3.[random](#np.random)\n",
    "\n",
    "4.[sort numpy](#np.argsort)\n",
    "\n",
    "5.[增加行和列](#add_rows/columns)\n",
    "\n",
    "    "
   ]
  },
  {
   "cell_type": "markdown",
   "metadata": {
    "_cell_guid": "c69893f0-d89a-4dd4-af64-87a262bfce63",
    "_uuid": "e46126f4737ccf8955df6193281719271ffc1b5c"
   },
   "source": [
    "## file \n",
    "with array\n",
    "save array as .npy\n",
    "\n",
    "np.save()\n",
    "\n",
    "np.load"
   ]
  },
  {
   "cell_type": "code",
   "execution_count": 2,
   "metadata": {
    "_cell_guid": "7c17a01f-cfb2-45fe-b897-2b61790ba7f3",
    "_uuid": "eab70bb84b3860fca63b3e6bf430ec33498d75fa",
    "collapsed": true
   },
   "outputs": [],
   "source": [
    "arr = np.arange(10)\n",
    "np.save('some_array',arr)"
   ]
  },
  {
   "cell_type": "code",
   "execution_count": 3,
   "metadata": {
    "_cell_guid": "11995860-6dea-496a-ac08-1fddeeb0dc58",
    "_uuid": "5ce8fc3d4a044ba708573c772b9fe5d825991ffe"
   },
   "outputs": [
    {
     "data": {
      "text/plain": [
       "array([0, 1, 2, 3, 4, 5, 6, 7, 8, 9])"
      ]
     },
     "execution_count": 3,
     "metadata": {},
     "output_type": "execute_result"
    }
   ],
   "source": [
    "np.load('some_array.npy')"
   ]
  },
  {
   "cell_type": "markdown",
   "metadata": {
    "_cell_guid": "6727f5b9-d295-4b65-8eeb-2e6972c0b913",
    "_uuid": "c4a1367c5b61d25fa85ce2b054b7041b62776c3d"
   },
   "source": [
    "还可以存好几个array\n",
    "\n",
    "np.savez()"
   ]
  },
  {
   "cell_type": "code",
   "execution_count": 4,
   "metadata": {
    "_cell_guid": "0b1ab1ce-2c1d-446a-966b-16802442c2ec",
    "_uuid": "b0c9cbcd9cfb38fb39cd2bf1215590f1a1f304c9"
   },
   "outputs": [
    {
     "data": {
      "text/plain": [
       "array([0, 1, 2, 3, 4, 5, 6, 7, 8, 9])"
      ]
     },
     "execution_count": 4,
     "metadata": {},
     "output_type": "execute_result"
    }
   ],
   "source": [
    "np.savez('array_archive.npz', a = arr, b = arr)\n",
    "arch = np.load('array_archive.npz')\n",
    "arch['b']"
   ]
  },
  {
   "cell_type": "markdown",
   "metadata": {
    "_cell_guid": "1fcf7a02-5a8c-4a3e-95d9-9c343c27a340",
    "_uuid": "9bf1745ab445cdd7378d4e85464d19d855a2ede8"
   },
   "source": [
    "## Linear \n",
    "Algebra\n",
    "\n",
    "## multiplication\n",
    "np.dot()\n",
    "\n",
    "x.dot(y)"
   ]
  },
  {
   "cell_type": "code",
   "execution_count": 5,
   "metadata": {
    "_cell_guid": "bda2b858-992b-4f13-96f7-0da4cf229bf2",
    "_uuid": "fd46971b6443da284c1c3cddf98cb612595ab375",
    "collapsed": true
   },
   "outputs": [],
   "source": [
    "x = np.array([[1., 2., 3.], [4., 5., 6.]])\n",
    "y = np.array([[6., 23.], [-1, 7], [8, 9]])"
   ]
  },
  {
   "cell_type": "code",
   "execution_count": 6,
   "metadata": {
    "_cell_guid": "30e4424a-b0e7-4a95-b710-e3db16d619f7",
    "_uuid": "d2fce55b4bc8af567d9d67596bb2fcb704546d6d"
   },
   "outputs": [
    {
     "data": {
      "text/plain": [
       "array([[ 28.,  64.],\n",
       "       [ 67., 181.]])"
      ]
     },
     "execution_count": 6,
     "metadata": {},
     "output_type": "execute_result"
    }
   ],
   "source": [
    "x.dot(y)"
   ]
  },
  {
   "cell_type": "code",
   "execution_count": 7,
   "metadata": {
    "_cell_guid": "2a05436e-cf29-4035-87cb-104b972c51e4",
    "_uuid": "94aeb4bed270d9dd1cd2f568f4f6855994a433f6",
    "scrolled": true
   },
   "outputs": [
    {
     "data": {
      "text/plain": [
       "array([[ 28.,  64.],\n",
       "       [ 67., 181.]])"
      ]
     },
     "execution_count": 7,
     "metadata": {},
     "output_type": "execute_result"
    }
   ],
   "source": [
    "np.dot(x,y)"
   ]
  },
  {
   "cell_type": "markdown",
   "metadata": {
    "_cell_guid": "72a1b637-d438-480d-9738-40f65f3b5f11",
    "_uuid": "2746f78be7ffb1e2e4783f2d57d142763203ee88"
   },
   "source": [
    "## inverse"
   ]
  },
  {
   "cell_type": "code",
   "execution_count": 8,
   "metadata": {
    "_cell_guid": "5d149cd9-38e7-43ca-9431-c8e4daab9d4f",
    "_uuid": "620562a4a8a86b63c69b5a9246221aa40ad94bdb",
    "collapsed": true
   },
   "outputs": [],
   "source": [
    "from numpy.linalg import inv, qr\n",
    "X = np.random.randn(5,5)"
   ]
  },
  {
   "cell_type": "code",
   "execution_count": 9,
   "metadata": {
    "_cell_guid": "408c36af-d104-46a7-a633-6e69f1e5227c",
    "_uuid": "d1be6fc8beabd286142ebfff17073e465f9dd475"
   },
   "outputs": [
    {
     "data": {
      "text/plain": [
       "array([[-0.23446296,  0.98606715,  0.67540946,  0.94844021, -0.92326589],\n",
       "       [-0.09044448, -1.05872179,  0.48708639, -0.08894444, -0.29096437],\n",
       "       [ 0.46399212,  1.88159656,  1.46301893,  0.56766689, -0.02359016],\n",
       "       [ 1.17253246,  1.63479864,  1.80292732,  0.12615182,  0.43779832],\n",
       "       [-3.5499485 ,  0.90175794, -1.0173739 , -1.49439566,  0.84561147]])"
      ]
     },
     "execution_count": 9,
     "metadata": {},
     "output_type": "execute_result"
    }
   ],
   "source": [
    "X"
   ]
  },
  {
   "cell_type": "code",
   "execution_count": 10,
   "metadata": {
    "_cell_guid": "49f17f42-b4ed-47e1-a3de-f568d9b62b10",
    "_uuid": "3ffc09d45b279d38264befa29c133d8adca05440"
   },
   "outputs": [
    {
     "data": {
      "text/plain": [
       "array([[-0.23446296, -0.09044448,  0.46399212,  1.17253246, -3.5499485 ],\n",
       "       [ 0.98606715, -1.05872179,  1.88159656,  1.63479864,  0.90175794],\n",
       "       [ 0.67540946,  0.48708639,  1.46301893,  1.80292732, -1.0173739 ],\n",
       "       [ 0.94844021, -0.08894444,  0.56766689,  0.12615182, -1.49439566],\n",
       "       [-0.92326589, -0.29096437, -0.02359016,  0.43779832,  0.84561147]])"
      ]
     },
     "execution_count": 10,
     "metadata": {},
     "output_type": "execute_result"
    }
   ],
   "source": [
    "X.T"
   ]
  },
  {
   "cell_type": "code",
   "execution_count": 11,
   "metadata": {
    "_cell_guid": "1d18172b-1242-42e1-8b1e-c6ece3a756db",
    "_uuid": "dcbecdca6345678c4e12062d4a3c38ad9701885d"
   },
   "outputs": [
    {
     "data": {
      "text/plain": [
       "array([[14.25540849, -0.54673449,  6.20203221,  5.50200813, -2.25670231],\n",
       "       [-0.54673449,  9.11935985,  4.93311963,  0.9561629 ,  0.83150993],\n",
       "       [ 6.20203221,  4.93311963,  7.11945204,  3.17557096, -0.87080464],\n",
       "       [ 5.50200813,  0.9561629 ,  3.17557096,  3.47882831, -2.07162325],\n",
       "       [-2.25670231,  0.83150993, -0.87080464, -2.07162325,  1.8443628 ]])"
      ]
     },
     "execution_count": 11,
     "metadata": {},
     "output_type": "execute_result"
    }
   ],
   "source": [
    "mat = X.T.dot(X)\n",
    "mat"
   ]
  },
  {
   "cell_type": "code",
   "execution_count": 12,
   "metadata": {
    "_cell_guid": "689155b2-febf-4663-9b88-593085c2e2a6",
    "_uuid": "bbcf8ff73e52e0512ba89196a046269245baffb1"
   },
   "outputs": [
    {
     "data": {
      "text/plain": [
       "array([[ 11.30082194,  10.21967128,  -4.63321685, -37.0395394 ,\n",
       "        -34.57116182],\n",
       "       [ 10.21967128,   9.46579959,  -4.34296531, -33.57137081,\n",
       "        -31.52159495],\n",
       "       [ -4.63321685,  -4.34296531,   2.40155512,  14.47928009,\n",
       "         13.68620436],\n",
       "       [-37.0395394 , -33.57137081,  14.47928009, 123.74031487,\n",
       "        115.63866463],\n",
       "       [-34.57116182, -31.52159495,  13.68620436, 115.63866463,\n",
       "        108.8025928 ]])"
      ]
     },
     "execution_count": 12,
     "metadata": {},
     "output_type": "execute_result"
    }
   ],
   "source": [
    "inv(mat)"
   ]
  },
  {
   "cell_type": "code",
   "execution_count": 13,
   "metadata": {
    "_cell_guid": "9e80da18-5452-49f8-8ba6-df0a25d96841",
    "_uuid": "31f531104981afea4660782a11eb13e923849753",
    "scrolled": true
   },
   "outputs": [
    {
     "data": {
      "text/plain": [
       "array([[ 1.00000000e+00,  7.12411440e-15,  8.02814426e-15,\n",
       "         3.36348866e-14,  6.99971537e-14],\n",
       "       [ 5.30793427e-15,  1.00000000e+00,  2.62004981e-15,\n",
       "        -2.11912846e-14, -2.98048629e-15],\n",
       "       [ 2.64002303e-14, -2.91077452e-16,  1.00000000e+00,\n",
       "        -6.74603980e-14,  8.58384217e-15],\n",
       "       [ 3.34716912e-17, -7.82064363e-15,  1.63908013e-15,\n",
       "         1.00000000e+00,  4.58877109e-14],\n",
       "       [-9.16206628e-15, -7.66657422e-15,  4.82648025e-15,\n",
       "         1.33706508e-14,  1.00000000e+00]])"
      ]
     },
     "execution_count": 13,
     "metadata": {},
     "output_type": "execute_result"
    }
   ],
   "source": [
    "mat.dot(inv(mat))"
   ]
  },
  {
   "cell_type": "markdown",
   "metadata": {
    "_cell_guid": "3fc61936-0440-4b4a-aa97-543a142a1529",
    "_uuid": "5f8ce0ed8275beefaaf575fc33bff0345dfa7e7d"
   },
   "source": [
    "## qr \n",
    "decomposition"
   ]
  },
  {
   "cell_type": "code",
   "execution_count": 14,
   "metadata": {
    "_cell_guid": "b5a1f9b5-4380-4c67-8222-36123cd10299",
    "_uuid": "14ec22a4834b5cee279a299c5385f44b31118bbc"
   },
   "outputs": [
    {
     "name": "stdout",
     "output_type": "stream",
     "text": [
      "[[-0.85599067  0.15762134  0.36007344  0.26354914 -0.20814525]\n",
      " [ 0.03282962 -0.88242131  0.41986761 -0.08915089 -0.18978449]\n",
      " [-0.37241176 -0.42950453 -0.79434188  0.19765196  0.08240158]\n",
      " [-0.3303776  -0.05158981  0.09889044 -0.62742903  0.69623461]\n",
      " [ 0.1355076  -0.09670827  0.23086785  0.69990034  0.65507614]]\n",
      "\t\n",
      "[[-1.66536961e+01 -1.27298591e+00 -8.96543509e+00 -7.29094477e+00\n",
      "   3.21765525e+00]\n",
      " [ 0.00000000e+00 -1.03818339e+01 -6.51296729e+00 -1.31955576e+00\n",
      "  -7.86922463e-01]\n",
      " [ 0.00000000e+00  0.00000000e+00 -1.23784186e+00 -2.74148504e-01\n",
      "   4.49202452e-01]\n",
      " [ 0.00000000e+00  0.00000000e+00  0.00000000e+00 -1.64018313e+00\n",
      "   1.74966867e+00]\n",
      " [ 0.00000000e+00  0.00000000e+00  0.00000000e+00  0.00000000e+00\n",
      "   6.02077695e-03]]\n"
     ]
    }
   ],
   "source": [
    "q, r = qr(mat)\n",
    "print(q)\n",
    "print('\\t')\n",
    "print(r)"
   ]
  },
  {
   "cell_type": "markdown",
   "metadata": {
    "_cell_guid": "d5bf1503-8519-49da-95ec-b61965532f5f",
    "_uuid": "1e03b2fb7864a4c7af9f41b01e7c38254d39b31c"
   },
   "source": [
    "## useful\n",
    "常见的一些矩阵操作\n",
    "注意要先导入包：from numpy import linalg as LA"
   ]
  },
  {
   "cell_type": "code",
   "execution_count": 15,
   "metadata": {
    "_cell_guid": "8e1d359b-3d48-44bd-b29a-11802596250f",
    "_uuid": "2167a4a22e878fcb582e7951fcf0ee4ab6d0d734"
   },
   "outputs": [
    {
     "data": {
      "text/plain": [
       "array([14.25540849,  9.11935985,  7.11945204,  3.47882831,  1.8443628 ])"
      ]
     },
     "execution_count": 15,
     "metadata": {},
     "output_type": "execute_result"
    }
   ],
   "source": [
    "np.diag(mat)"
   ]
  },
  {
   "cell_type": "code",
   "execution_count": 16,
   "metadata": {
    "_cell_guid": "440b5c37-2cf6-4eb6-958a-224dab49c810",
    "_uuid": "284b23b2db69b751e971faa0ac763893bb9a2df9"
   },
   "outputs": [
    {
     "data": {
      "text/plain": [
       "35.81741148914775"
      ]
     },
     "execution_count": 16,
     "metadata": {},
     "output_type": "execute_result"
    }
   ],
   "source": [
    "np.trace(mat)"
   ]
  },
  {
   "cell_type": "code",
   "execution_count": 17,
   "metadata": {
    "_cell_guid": "6f168b0a-a406-4231-aa73-fc3868fb224c",
    "_uuid": "c24b22c4ea2f80e698394bf09a2e17073e269722",
    "collapsed": true
   },
   "outputs": [],
   "source": [
    "from numpy import linalg as LA"
   ]
  },
  {
   "cell_type": "code",
   "execution_count": 18,
   "metadata": {
    "_cell_guid": "72674425-43d3-474c-9a56-40c2819031c0",
    "_uuid": "909f2aa63783490b13ee8357e8721f4022c94238"
   },
   "outputs": [
    {
     "data": {
      "text/plain": [
       "2.113463518793866"
      ]
     },
     "execution_count": 18,
     "metadata": {},
     "output_type": "execute_result"
    }
   ],
   "source": [
    "LA.det(mat)"
   ]
  },
  {
   "cell_type": "code",
   "execution_count": 19,
   "metadata": {
    "_cell_guid": "6ab06f74-326e-4c64-a3c2-a88dd7bc06b2",
    "_uuid": "32b67a44b52424778cde7f30bae2236e3231f886",
    "collapsed": true
   },
   "outputs": [],
   "source": [
    "w, v = LA.eig(mat)"
   ]
  },
  {
   "cell_type": "code",
   "execution_count": 20,
   "metadata": {
    "_cell_guid": "a7b2fc69-3fa3-4974-be5f-494c59c617db",
    "_uuid": "197d67fa8285fbf7e6ef2133d704eb60fec4365f"
   },
   "outputs": [
    {
     "data": {
      "text/plain": [
       "array([2.11036032e+01, 1.14697912e+01, 2.25702509e+00, 9.83056834e-01,\n",
       "       3.93520733e-03])"
      ]
     },
     "execution_count": 20,
     "metadata": {},
     "output_type": "execute_result"
    }
   ],
   "source": [
    "#w is eignevalues\n",
    "w"
   ]
  },
  {
   "cell_type": "code",
   "execution_count": 21,
   "metadata": {
    "_cell_guid": "d2e74b7f-2840-4d87-9a26-77d89088931a",
    "_uuid": "89ce9f18bb75ead3a819dafd6066d2033c57356c"
   },
   "outputs": [
    {
     "data": {
      "text/plain": [
       "array([[-0.76078304,  0.37793924, -0.36703911,  0.31618717, -0.20899535],\n",
       "       [-0.18616891, -0.84419449,  0.02514112,  0.46466247, -0.19008816],\n",
       "       [-0.49201153, -0.3475565 , -0.06668005, -0.79109534,  0.08277111],\n",
       "       [-0.35285541,  0.05805758,  0.58182607,  0.21785682,  0.69723684],\n",
       "       [ 0.14130822, -0.14258816, -0.72227585,  0.10402415,  0.65360322]])"
      ]
     },
     "execution_count": 21,
     "metadata": {},
     "output_type": "execute_result"
    }
   ],
   "source": [
    "#v is eigenvectors. it has been normalized to be unit vector\n",
    "v"
   ]
  },
  {
   "cell_type": "markdown",
   "metadata": {
    "_cell_guid": "0777a999-cf6b-41a1-9a1a-e5d31b931f31",
    "_uuid": "d5441fe398e17174d5bcb6a69156b82fe1c87492"
   },
   "source": [
    "这个的验证之后要记得写好！！\n",
    "====="
   ]
  },
  {
   "cell_type": "code",
   "execution_count": 22,
   "metadata": {
    "_cell_guid": "6cbd6114-36cb-4834-8aae-cccdd59348ca",
    "_uuid": "92dce2b2adeb116bc1327ca611e9d21f5da07a00"
   },
   "outputs": [
    {
     "name": "stdout",
     "output_type": "stream",
     "text": [
      "[[-0.76078304  0.37793924  0.36703911 -0.31618717 -0.20899535]\n",
      " [-0.18616891 -0.84419449 -0.02514112 -0.46466247 -0.19008816]\n",
      " [-0.49201153 -0.3475565   0.06668005  0.79109534  0.08277111]\n",
      " [-0.35285541  0.05805758 -0.58182607 -0.21785682  0.69723684]\n",
      " [ 0.14130822 -0.14258816  0.72227585 -0.10402415  0.65360322]]\n",
      "\t\n",
      "[2.11036032e+01 1.14697912e+01 2.25702509e+00 9.83056834e-01\n",
      " 3.93520733e-03]\n",
      "\t\n",
      "[[-0.76078304 -0.18616891 -0.49201153 -0.35285541  0.14130822]\n",
      " [ 0.37793924 -0.84419449 -0.3475565   0.05805758 -0.14258816]\n",
      " [ 0.36703911 -0.02514112  0.06668005 -0.58182607  0.72227585]\n",
      " [-0.31618717 -0.46466247  0.79109534 -0.21785682 -0.10402415]\n",
      " [-0.20899535 -0.19008816  0.08277111  0.69723684  0.65360322]]\n"
     ]
    }
   ],
   "source": [
    "s,v,d = LA.svd(mat)\n",
    "print(s)\n",
    "print('\\t')\n",
    "print(v)\n",
    "print('\\t')\n",
    "print(d)"
   ]
  },
  {
   "cell_type": "markdown",
   "metadata": {
    "_cell_guid": "67e9825e-578a-4134-a3da-18be3b50ffe1",
    "_uuid": "877ede2c01894be00f779211ca99c5e2e0e8f77a"
   },
   "source": [
    "solve可以解Ax = b的方程。如下："
   ]
  },
  {
   "cell_type": "code",
   "execution_count": 23,
   "metadata": {
    "_cell_guid": "d2585208-0f38-4cb3-84a5-e13ee4b28a43",
    "_uuid": "344e407e0c77005b8093c9b47724196816ef552d"
   },
   "outputs": [
    {
     "data": {
      "text/plain": [
       "array([2., 3.])"
      ]
     },
     "execution_count": 23,
     "metadata": {},
     "output_type": "execute_result"
    }
   ],
   "source": [
    "a = np.array([[3,1], [1,2]])\n",
    "b = np.array([9,8])\n",
    "x = LA.solve(a, b)\n",
    "x"
   ]
  },
  {
   "cell_type": "code",
   "execution_count": 24,
   "metadata": {
    "_cell_guid": "e899de09-d860-41e5-bbca-88931d59dab4",
    "_uuid": "0324d572870f343ade77fad1b7dfa4e84ca6a124"
   },
   "outputs": [
    {
     "data": {
      "text/plain": [
       "array([9., 8.])"
      ]
     },
     "execution_count": 24,
     "metadata": {},
     "output_type": "execute_result"
    }
   ],
   "source": [
    "a.dot(x)"
   ]
  },
  {
   "cell_type": "markdown",
   "metadata": {
    "_cell_guid": "7d76036f-5fc6-45d2-9418-67f7be9ba346",
    "_uuid": "5a7e490bda97de591df4e961e13b4f03adc4b0be"
   },
   "source": [
    "## np.random\n",
    "\n",
    "np.random.normal 产生normal gaussian distribution的随机数据\n",
    "\n",
    "rand产生数据是uniform distribution\n",
    "\n",
    "randint产生一个根据我们给定范围的随机数，[x,y）\n",
    "\n",
    "randn成圣normal distribution的，mean is 0, sd is 1\n",
    "\n",
    "还有binimial, beta, chisquarem gamma, uniform([0,1])的分布可以随机生成\n",
    "\n",
    "\n"
   ]
  },
  {
   "cell_type": "code",
   "execution_count": 25,
   "metadata": {
    "_cell_guid": "3ce27cb8-81f0-4e98-8e4d-a1a12b16c6dd",
    "_uuid": "2c128512919c8a02247ac05f9f4a0c3d5629b170"
   },
   "outputs": [
    {
     "data": {
      "text/plain": [
       "array([[-1.48608449,  0.81761729, -0.98880686,  2.35420375],\n",
       "       [-0.51614766, -1.88245529,  0.05562411, -0.22501186],\n",
       "       [ 0.94935292, -0.29867124, -0.22900631,  1.00316332],\n",
       "       [ 0.9345047 , -0.47670479, -0.4100833 ,  1.49724221]])"
      ]
     },
     "execution_count": 25,
     "metadata": {},
     "output_type": "execute_result"
    }
   ],
   "source": [
    "np.random.normal(size = (4,4))"
   ]
  },
  {
   "cell_type": "code",
   "execution_count": 26,
   "metadata": {
    "_cell_guid": "1a08c417-c6e8-4a6a-8265-9e0834b8e0db",
    "_uuid": "ed0ea9321a1116b8ccc7278c9b3941a5e03e8633"
   },
   "outputs": [
    {
     "data": {
      "text/plain": [
       "array([0.60545699, 0.56946042, 0.36585554, 0.77997589, 0.49176471,\n",
       "       0.24974098, 0.83029876, 0.00520319, 0.24451179, 0.03038433])"
      ]
     },
     "execution_count": 26,
     "metadata": {},
     "output_type": "execute_result"
    }
   ],
   "source": [
    "np.random.rand(10)"
   ]
  },
  {
   "cell_type": "code",
   "execution_count": 27,
   "metadata": {
    "_cell_guid": "1503f0f8-192f-4487-bd76-c941e2ae40fe",
    "_uuid": "da765b1282bbdcf23294ea99723e83129f75f436"
   },
   "outputs": [
    {
     "data": {
      "text/plain": [
       "2"
      ]
     },
     "execution_count": 27,
     "metadata": {},
     "output_type": "execute_result"
    }
   ],
   "source": [
    "np.random.randint(1,8)"
   ]
  },
  {
   "cell_type": "markdown",
   "metadata": {
    "_cell_guid": "5f3c3c8d-cb88-4ae0-8906-b7cebb6dacda",
    "_uuid": "3a292455fa92847605e0d27c062b11b5a1e0c2ca",
    "collapsed": true
   },
   "source": [
    "## np.argsort\n",
    "这个函数返回的是排序后，每个位置上的数的index。"
   ]
  },
  {
   "cell_type": "code",
   "execution_count": 28,
   "metadata": {
    "_cell_guid": "0b4c9226-50cf-4e77-98dd-a46198eed2c6",
    "_uuid": "58988209ab6d150a83c811e5557e66360b86767a",
    "collapsed": true
   },
   "outputs": [],
   "source": [
    "arr = np.array([1,-1,4,2,5,6])"
   ]
  },
  {
   "cell_type": "code",
   "execution_count": 29,
   "metadata": {
    "_cell_guid": "e9068d08-b9c6-4110-84d9-a414266ab018",
    "_uuid": "c47aaa7698c16b06c1c66c0c828f371c15d4c79e"
   },
   "outputs": [
    {
     "name": "stdout",
     "output_type": "stream",
     "text": [
      "[1 0 3 2 4 5]\n"
     ]
    }
   ],
   "source": [
    "sort_idx = arr.argsort()\n",
    "print(sort_idx)"
   ]
  },
  {
   "cell_type": "markdown",
   "metadata": {
    "_cell_guid": "02f37603-ee2d-462a-9058-fb009ca401f3",
    "_uuid": "6ed8323c8b8326befe6bdc4f4fbdf91c4e8e4768"
   },
   "source": [
    "也就是说，index为1的数最小，为0的第二小。该函数默认升序。"
   ]
  },
  {
   "cell_type": "code",
   "execution_count": 30,
   "metadata": {
    "_cell_guid": "d77e1c19-d9ac-4ac0-a71d-5018590a0f59",
    "_uuid": "e6e0fd7926e78133b8991c187a6b2422ff0f302f"
   },
   "outputs": [
    {
     "data": {
      "text/plain": [
       "array([-1,  1,  2,  4,  5,  6])"
      ]
     },
     "execution_count": 30,
     "metadata": {},
     "output_type": "execute_result"
    }
   ],
   "source": [
    "arr[sort_idx]"
   ]
  },
  {
   "cell_type": "code",
   "execution_count": 31,
   "metadata": {
    "_cell_guid": "e188f05e-7a8d-402f-9a53-3b2639665c82",
    "_uuid": "67e0d85f6d5a29e5d41e98bf09b5031cc899db0f"
   },
   "outputs": [
    {
     "data": {
      "text/plain": [
       "array([[0, 1],\n",
       "       [1, 0]])"
      ]
     },
     "execution_count": 31,
     "metadata": {},
     "output_type": "execute_result"
    }
   ],
   "source": [
    "#根据axis sort!\n",
    "x = np.array([[0, 3], [2, 2]])\n",
    "x.argsort(axis = 0)"
   ]
  },
  {
   "cell_type": "markdown",
   "metadata": {
    "_cell_guid": "859bb294-7f49-4a9e-b651-529725d0ab8e",
    "_uuid": "951333745715eb134a3a58717d5f1439ae918bdd"
   },
   "source": [
    "得到最大的n个数，假设n为3"
   ]
  },
  {
   "cell_type": "code",
   "execution_count": 32,
   "metadata": {
    "_cell_guid": "f41822ce-ca3d-46c1-881e-08538b71d42f",
    "_uuid": "0e126d55985e1ef37318cf540b56500c42ba33c4"
   },
   "outputs": [
    {
     "data": {
      "text/plain": [
       "array([6, 5, 4])"
      ]
     },
     "execution_count": 32,
     "metadata": {},
     "output_type": "execute_result"
    }
   ],
   "source": [
    "big_n_idx = arr.argsort()[-3:][::-1]\n",
    "arr[big_n_idx]"
   ]
  },
  {
   "cell_type": "markdown",
   "metadata": {
    "_cell_guid": "78a325cc-48eb-4ec7-b633-d3681c3c31d9",
    "_uuid": "efce759cfda4393adab30583084b29d6494e51d2",
    "collapsed": true
   },
   "source": [
    "## add_rows/columns"
   ]
  },
  {
   "cell_type": "code",
   "execution_count": 33,
   "metadata": {
    "_cell_guid": "0179f8a6-d991-4b8f-b618-7af7fae2fb39",
    "_uuid": "4bfa0aeb6fbfb1e215d77ea1a669abab5b32f582"
   },
   "outputs": [
    {
     "data": {
      "text/plain": [
       "array([[1, 2, 3],\n",
       "       [4, 5, 6],\n",
       "       [7, 8, 9]])"
      ]
     },
     "execution_count": 33,
     "metadata": {},
     "output_type": "execute_result"
    }
   ],
   "source": [
    "a = np.array([[1,2,3],[4,5,6],[7,8,9]])\n",
    "a"
   ]
  },
  {
   "cell_type": "code",
   "execution_count": 34,
   "metadata": {
    "_cell_guid": "e4b2fc68-0d0b-40c8-a97c-8323b7620768",
    "_uuid": "19054b9435e14aa40eb3a9c79eb2f822ea2e86ea"
   },
   "outputs": [
    {
     "data": {
      "text/plain": [
       "array([[0, 0, 0]])"
      ]
     },
     "execution_count": 34,
     "metadata": {},
     "output_type": "execute_result"
    }
   ],
   "source": [
    "b = np.array([[0,0,0]])\n",
    "b"
   ]
  },
  {
   "cell_type": "markdown",
   "metadata": {
    "_cell_guid": "6bf8d170-764a-4d0d-9ab0-0d828ab000be",
    "_uuid": "6b12c6bc00094ad79f4cf29eda82d62f129f0fb3",
    "collapsed": true
   },
   "source": [
    "## 增加行"
   ]
  },
  {
   "cell_type": "code",
   "execution_count": 35,
   "metadata": {
    "_cell_guid": "2c347881-1633-4c2b-a2cd-def19ac2f246",
    "_uuid": "c260092ce2b320acddf51616823607df3ac17a76"
   },
   "outputs": [
    {
     "data": {
      "text/plain": [
       "array([[1, 2, 3],\n",
       "       [4, 5, 6],\n",
       "       [7, 8, 9],\n",
       "       [0, 0, 0]])"
      ]
     },
     "execution_count": 35,
     "metadata": {},
     "output_type": "execute_result"
    }
   ],
   "source": [
    "np.r_[a,b]"
   ]
  },
  {
   "cell_type": "code",
   "execution_count": 36,
   "metadata": {
    "_cell_guid": "bafc8d52-40f0-4f21-a55a-8084a25f89d7",
    "_uuid": "2788cf3bf7591bfc221d989d09049c8df17a2a23"
   },
   "outputs": [
    {
     "data": {
      "text/plain": [
       "array([[1, 2, 3],\n",
       "       [0, 0, 0],\n",
       "       [4, 5, 6],\n",
       "       [7, 8, 9]])"
      ]
     },
     "execution_count": 36,
     "metadata": {},
     "output_type": "execute_result"
    }
   ],
   "source": [
    "np.insert(a, 1, values = b, axis = 0)#b可以是列表或者元素，他仅仅提供要插入的值，个数要对的上，这个方法很厉害！可以各种控制！"
   ]
  },
  {
   "cell_type": "code",
   "execution_count": 37,
   "metadata": {
    "_cell_guid": "095fb37d-c366-4ff3-adc2-c966afd0f56a",
    "_uuid": "7c95308393ca2fcb9aae96c66e98358b8db88be5"
   },
   "outputs": [
    {
     "data": {
      "text/plain": [
       "array([[1, 2, 3],\n",
       "       [4, 5, 6],\n",
       "       [7, 8, 9],\n",
       "       [0, 0, 0]])"
      ]
     },
     "execution_count": 37,
     "metadata": {},
     "output_type": "execute_result"
    }
   ],
   "source": [
    "np.row_stack((a,b))"
   ]
  },
  {
   "cell_type": "code",
   "execution_count": 38,
   "metadata": {
    "_uuid": "cbf36939c10cda0b29c30990d817239e8458479e"
   },
   "outputs": [
    {
     "data": {
      "text/plain": [
       "array([[1, 2, 3],\n",
       "       [4, 5, 6],\n",
       "       [7, 8, 9],\n",
       "       [0, 0, 0]])"
      ]
     },
     "execution_count": 38,
     "metadata": {},
     "output_type": "execute_result"
    }
   ],
   "source": [
    "np.vstack((a,b))"
   ]
  },
  {
   "cell_type": "markdown",
   "metadata": {
    "_uuid": "6b56cea4e74113f6aa10a966651f6ea0a361c4cd"
   },
   "source": [
    "## 增加列"
   ]
  },
  {
   "cell_type": "code",
   "execution_count": 39,
   "metadata": {
    "_uuid": "4947cc0844514bce03e23ad9dc3989f4c49a56ee"
   },
   "outputs": [
    {
     "data": {
      "text/plain": [
       "array([[1, 2, 3, 0],\n",
       "       [4, 5, 6, 0],\n",
       "       [7, 8, 9, 0]])"
      ]
     },
     "execution_count": 39,
     "metadata": {},
     "output_type": "execute_result"
    }
   ],
   "source": [
    "np.c_[a,b.T]"
   ]
  },
  {
   "cell_type": "code",
   "execution_count": 40,
   "metadata": {
    "_uuid": "b561ee8bb7f5f01176fb036d9fcb4028d21ccb05"
   },
   "outputs": [
    {
     "data": {
      "text/plain": [
       "array([[1, 2, 0, 3],\n",
       "       [4, 5, 0, 6],\n",
       "       [7, 8, 0, 9]])"
      ]
     },
     "execution_count": 40,
     "metadata": {},
     "output_type": "execute_result"
    }
   ],
   "source": [
    "np.insert(a, 2, values = b, axis = 1)"
   ]
  },
  {
   "cell_type": "code",
   "execution_count": 41,
   "metadata": {
    "_uuid": "103e77dd150e031ab905cb4b6decc85d554ed2b8"
   },
   "outputs": [
    {
     "data": {
      "text/plain": [
       "array([[1, 2, 3, 0],\n",
       "       [4, 5, 6, 0],\n",
       "       [7, 8, 9, 0]])"
      ]
     },
     "execution_count": 41,
     "metadata": {},
     "output_type": "execute_result"
    }
   ],
   "source": [
    "np.column_stack((a,b.T))"
   ]
  },
  {
   "cell_type": "code",
   "execution_count": 42,
   "metadata": {
    "_uuid": "9c69f3100b67ae8d15f9605596c9ce54ae65c233"
   },
   "outputs": [
    {
     "data": {
      "text/plain": [
       "array([[1, 2, 3, 0],\n",
       "       [4, 5, 6, 0],\n",
       "       [7, 8, 9, 0]])"
      ]
     },
     "execution_count": 42,
     "metadata": {},
     "output_type": "execute_result"
    }
   ],
   "source": [
    "np.hstack((a,b.T))"
   ]
  }
 ],
 "metadata": {
  "kernelspec": {
   "display_name": "Python 3",
   "language": "python",
   "name": "python3"
  },
  "language_info": {
   "codemirror_mode": {
    "name": "ipython",
    "version": 3
   },
   "file_extension": ".py",
   "mimetype": "text/x-python",
   "name": "python",
   "nbconvert_exporter": "python",
   "pygments_lexer": "ipython3",
   "version": "3.6.3"
  }
 },
 "nbformat": 4,
 "nbformat_minor": 1
}
