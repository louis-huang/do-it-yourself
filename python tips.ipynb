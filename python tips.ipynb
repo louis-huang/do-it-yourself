{
 "cells": [
  {
   "cell_type": "code",
   "execution_count": 1,
   "metadata": {
    "_cell_guid": "b1076dfc-b9ad-4769-8c92-a6c4dae69d19",
    "_uuid": "8f2839f25d086af736a60e9eeb907d3b93b6e0e5",
    "collapsed": true
   },
   "outputs": [],
   "source": [
    "import numpy as np # linear algebra\n",
    "import pandas as pd # data processing, CSV file I/O (e.g. pd.read_csv)\n"
   ]
  },
  {
   "cell_type": "markdown",
   "metadata": {
    "_cell_guid": "79c7e3d0-c299-4dcb-8224-4455121ee9b0",
    "_uuid": "d629ff2d2480ee46fbb7e2d37f6b5fab8052498a",
    "collapsed": true
   },
   "source": [
    "## Table of Contents\n",
    "1.[defaultdict](#defualtdict)\n",
    "\n",
    "2.[lambda](#Lambda)\n",
    "\n",
    "3.[Bit  Operation](#Bit)"
   ]
  },
  {
   "cell_type": "markdown",
   "metadata": {
    "_uuid": "5eb793ec676ba9a8131055390fb399cb2520aac8"
   },
   "source": [
    "## defaultdict\n",
    "## defaultdict的主要作用是让我们的字典在没有见过某个key的时候，自动给一个默认值，然后再进行后续操作，这样就避免了没有key而出错！！！！所以这个字典特别方便统计或者添加字典的东西。就不需要先一个if 判断这个key有没有出现过了！！！！"
   ]
  },
  {
   "cell_type": "code",
   "execution_count": 2,
   "metadata": {
    "_uuid": "403b7a0710c011a4116859a250b0158faf2f6242",
    "collapsed": true
   },
   "outputs": [],
   "source": [
    "from collections import defaultdict\n",
    "\n",
    "s = [('yellow', 1), ('blue', 2), ('yellow', 3), ('blue', 4), ('red', 1)]\n",
    "d = defaultdict(list)"
   ]
  },
  {
   "cell_type": "code",
   "execution_count": 3,
   "metadata": {
    "_uuid": "2d03ebbd489c32c91af7792bced9fee177a54352"
   },
   "outputs": [
    {
     "data": {
      "text/plain": [
       "defaultdict(list, {})"
      ]
     },
     "execution_count": 3,
     "metadata": {},
     "output_type": "execute_result"
    }
   ],
   "source": [
    "d"
   ]
  },
  {
   "cell_type": "code",
   "execution_count": 4,
   "metadata": {
    "_uuid": "771e1bf03267c2fd8f1b6d13023947840750dfee",
    "collapsed": true
   },
   "outputs": [],
   "source": [
    "for k, v in s:\n",
    "    d[k].append(v)"
   ]
  },
  {
   "cell_type": "code",
   "execution_count": 5,
   "metadata": {
    "_uuid": "8ad7d8633a73a1a35f34b7a55dc6815c99ff1aaf"
   },
   "outputs": [
    {
     "data": {
      "text/plain": [
       "[('yellow', [1, 3]), ('blue', [2, 4]), ('red', [1])]"
      ]
     },
     "execution_count": 5,
     "metadata": {},
     "output_type": "execute_result"
    }
   ],
   "source": [
    "list(d.items())"
   ]
  },
  {
   "cell_type": "markdown",
   "metadata": {
    "_uuid": "1b0274a1361fb6a501fcf873656cd1b739cb44f2"
   },
   "source": [
    "## 或者可以用setdefault，貌似更好！"
   ]
  },
  {
   "cell_type": "code",
   "execution_count": 6,
   "metadata": {
    "_uuid": "049528f38ad078ff2843bba5da0c61d49162039f"
   },
   "outputs": [
    {
     "data": {
      "text/plain": [
       "[('yellow', [1, 3]), ('blue', [2, 4]), ('red', [1])]"
      ]
     },
     "execution_count": 6,
     "metadata": {},
     "output_type": "execute_result"
    }
   ],
   "source": [
    "d = {}\n",
    "for k, v in s:\n",
    "    d.setdefault(k, []).append(v)\n",
    "list(d.items())"
   ]
  },
  {
   "cell_type": "code",
   "execution_count": 7,
   "metadata": {
    "_uuid": "e01c91b7e271ba6f8b0d2b5ef05895ee04b4de4b"
   },
   "outputs": [
    {
     "data": {
      "text/plain": [
       "[('ss', 2), ('a', 3), ('dfd', 1), ('rr', 2), ('sdasd', 1), ('sdad', 1)]"
      ]
     },
     "execution_count": 7,
     "metadata": {},
     "output_type": "execute_result"
    }
   ],
   "source": [
    "## 快速统计单词、字符数量！\n",
    "s = ['ss','a','dfd','rr','a','rr','a','sdasd','sdad','ss']\n",
    "d = defaultdict(int)\n",
    "for k in s:\n",
    "    d[k] += 1\n",
    "list(d.items())"
   ]
  },
  {
   "cell_type": "markdown",
   "metadata": {
    "_uuid": "219b6a548bd22b2555b99ff1aed368eb64927782"
   },
   "source": [
    "## 设置value为set"
   ]
  },
  {
   "cell_type": "code",
   "execution_count": 8,
   "metadata": {
    "_uuid": "b53c9d8ddc417701a1d08466ee1a16c0eea4ca35"
   },
   "outputs": [
    {
     "data": {
      "text/plain": [
       "[('red', {1, 3}), ('blue', {2, 4})]"
      ]
     },
     "execution_count": 8,
     "metadata": {},
     "output_type": "execute_result"
    }
   ],
   "source": [
    "s = [('red', 1), ('blue', 2), ('red', 3), ('blue', 4), ('red', 1), ('blue', 4)]\n",
    "d = defaultdict(set)\n",
    "for k, v in s:\n",
    "    d[k].add(v)\n",
    "list(d.items())    "
   ]
  },
  {
   "cell_type": "markdown",
   "metadata": {
    "_uuid": "0f2fcdf2116ae5f2f189a7d2711c3336b054cdcb"
   },
   "source": [
    "## 自己设置默认值，非空"
   ]
  },
  {
   "cell_type": "code",
   "execution_count": 9,
   "metadata": {
    "_uuid": "9aad910d9b2418a36224ccbbf610ab259e0b9a1a",
    "collapsed": true
   },
   "outputs": [],
   "source": [
    "def constant_factory(value):\n",
    "    return lambda: value"
   ]
  },
  {
   "cell_type": "code",
   "execution_count": 10,
   "metadata": {
    "_uuid": "6af54176bb9a648032d08a9415272b5923efb89a",
    "collapsed": true
   },
   "outputs": [],
   "source": [
    "d = defaultdict(constant_factory(\"<missing>\"))\n",
    "d.update(name = \"Louis\", action = \"run\")"
   ]
  },
  {
   "cell_type": "code",
   "execution_count": 11,
   "metadata": {
    "_uuid": "e38bac57a649e0dae189f2640f375885a84e8522"
   },
   "outputs": [
    {
     "data": {
      "text/plain": [
       "'Louis run to <missing>'"
      ]
     },
     "execution_count": 11,
     "metadata": {},
     "output_type": "execute_result"
    }
   ],
   "source": [
    "'%(name)s %(action)s to %(object)s'%d"
   ]
  },
  {
   "cell_type": "markdown",
   "metadata": {
    "_uuid": "5c772cd59a76e9491e1e74b331101db7eed288d8",
    "collapsed": true
   },
   "source": [
    "## Lambda"
   ]
  },
  {
   "cell_type": "code",
   "execution_count": 12,
   "metadata": {
    "_uuid": "4afd404c734db0d4ecb4937d5d786443e89562dc",
    "collapsed": true
   },
   "outputs": [],
   "source": [
    "g = lambda x : x + 1 "
   ]
  },
  {
   "cell_type": "code",
   "execution_count": 13,
   "metadata": {
    "_uuid": "079e3489fd20e1376eb3d1bc4c32b8d70fcb18c8"
   },
   "outputs": [
    {
     "data": {
      "text/plain": [
       "2"
      ]
     },
     "execution_count": 13,
     "metadata": {},
     "output_type": "execute_result"
    }
   ],
   "source": [
    "g(1)"
   ]
  },
  {
   "cell_type": "markdown",
   "metadata": {
    "_uuid": "e05c862de042d30175ae5fac199571fb792ac125"
   },
   "source": [
    "## 相当于是如下函数："
   ]
  },
  {
   "cell_type": "code",
   "execution_count": 14,
   "metadata": {
    "_uuid": "ac7845f70fd4371d8083eb0b794e4ed5fcd63d5a",
    "collapsed": true
   },
   "outputs": [],
   "source": [
    "def g(x):\n",
    "    return (x + 1)"
   ]
  },
  {
   "cell_type": "code",
   "execution_count": 15,
   "metadata": {
    "_uuid": "1666e733ae4f85358f56252fc11018d7dd1142c5"
   },
   "outputs": [
    {
     "data": {
      "text/plain": [
       "2"
      ]
     },
     "execution_count": 15,
     "metadata": {},
     "output_type": "execute_result"
    }
   ],
   "source": [
    "g(1)"
   ]
  },
  {
   "cell_type": "markdown",
   "metadata": {
    "_uuid": "62abd13eb90b85019f761ae542cee16d71c87943"
   },
   "source": [
    "## 结合几个好用的全局函数"
   ]
  },
  {
   "cell_type": "code",
   "execution_count": 16,
   "metadata": {
    "_uuid": "5f293cdf4d704c5eed6316984d0913a29c3ab26a",
    "collapsed": true
   },
   "outputs": [],
   "source": [
    "foo = [2, 18, 9, 22, 17, 24, 8, 12, 27]"
   ]
  },
  {
   "cell_type": "markdown",
   "metadata": {
    "_uuid": "ea6f061cc02016ac294bc49d8d97f05f088281b0"
   },
   "source": [
    "## filter 可以用来根据函数的要求选择数据"
   ]
  },
  {
   "cell_type": "code",
   "execution_count": 17,
   "metadata": {
    "_uuid": "2a779661875228e63efbb19d0532727548785602"
   },
   "outputs": [
    {
     "data": {
      "text/plain": [
       "[18, 9, 24, 12, 27]"
      ]
     },
     "execution_count": 17,
     "metadata": {},
     "output_type": "execute_result"
    }
   ],
   "source": [
    "list(filter(lambda x : x % 3 == 0, foo))"
   ]
  },
  {
   "cell_type": "markdown",
   "metadata": {
    "_uuid": "518b27a4f762f89e337a3bc5f9aca84862fa35c3"
   },
   "source": [
    "## map 用来根据函数的要求对数据进行整体操作，把一个函数作用给每一个list里的成员。"
   ]
  },
  {
   "cell_type": "code",
   "execution_count": 18,
   "metadata": {
    "_uuid": "4e7c803f3cc2b896f7be2bd12864869d0a5d8b81"
   },
   "outputs": [
    {
     "data": {
      "text/plain": [
       "[14, 46, 28, 54, 44, 58, 26, 34, 64]"
      ]
     },
     "execution_count": 18,
     "metadata": {},
     "output_type": "execute_result"
    }
   ],
   "source": [
    "list(map(lambda x : x *2 + 10, foo))"
   ]
  },
  {
   "cell_type": "markdown",
   "metadata": {
    "_uuid": "288fcdb381882b1a6b51695eff8326aa2a6ea556"
   },
   "source": [
    "## list sorting\n",
    "## 根据list里的第n位值来排序！！"
   ]
  },
  {
   "cell_type": "code",
   "execution_count": 19,
   "metadata": {
    "_uuid": "ddd6486045ec3b9924da68e6376f7507192c21a9"
   },
   "outputs": [
    {
     "name": "stdout",
     "output_type": "stream",
     "text": [
      "[(13, -3), (4, 1), (1, 2), (9, 10)]\n"
     ]
    }
   ],
   "source": [
    "a = [(1, 2), (4, 1), (9, 10), (13, -3)]\n",
    "a.sort(key=lambda x: x[1])\n",
    "print(a)"
   ]
  },
  {
   "cell_type": "markdown",
   "metadata": {
    "_uuid": "85bfb2ef6c92884a5507074ad4d2c23faab0cf4e",
    "collapsed": true
   },
   "source": [
    "## Bit"
   ]
  },
  {
   "cell_type": "markdown",
   "metadata": {
    "_uuid": "25c7e9d45ddb4cf702e06c95f1b7015758000ca6"
   },
   "source": [
    "& 全是1才是1"
   ]
  },
  {
   "cell_type": "code",
   "execution_count": 20,
   "metadata": {
    "_uuid": "4a0b9aa62fc24404a8f660557eb2b7f2bea1877b"
   },
   "outputs": [
    {
     "name": "stdout",
     "output_type": "stream",
     "text": [
      "16\n"
     ]
    }
   ],
   "source": [
    "a = 50 #00110010\n",
    "b = 25 #00011001\n",
    "\n",
    "c = a & b  #00010000\n",
    "\n",
    "print(c)"
   ]
  },
  {
   "cell_type": "markdown",
   "metadata": {
    "_uuid": "a2346161cf55e7c065eec24960d24a42b00e96a5"
   },
   "source": [
    "<< >> shift\n",
    "\n",
    "a << b = a * (2^b**)"
   ]
  },
  {
   "cell_type": "code",
   "execution_count": 21,
   "metadata": {
    "_uuid": "06c318265cd7baae627b7c4615213e230bc5a0d0"
   },
   "outputs": [
    {
     "name": "stdout",
     "output_type": "stream",
     "text": [
      "12\n"
     ]
    }
   ],
   "source": [
    "print(3 << 2)\n",
    "#3 = 00000011 << 2 ----> 00001100 = 12"
   ]
  },
  {
   "cell_type": "markdown",
   "metadata": {
    "_uuid": "7d1d6f31460d8500d7a9d5b21ebd1390c3acf67f"
   },
   "source": [
    "a >> b = a // (2^b)"
   ]
  },
  {
   "cell_type": "code",
   "execution_count": 22,
   "metadata": {
    "_uuid": "76299483ca6caf4319e7ccdab4f812ac6f484184"
   },
   "outputs": [
    {
     "name": "stdout",
     "output_type": "stream",
     "text": [
      "2\n"
     ]
    }
   ],
   "source": [
    "print(8 >> 2)"
   ]
  },
  {
   "cell_type": "markdown",
   "metadata": {
    "_uuid": "cb37b1099fb6ac317f6eafc55d52945844248bd7"
   },
   "source": [
    "| 有一个1就是1"
   ]
  },
  {
   "cell_type": "code",
   "execution_count": 23,
   "metadata": {
    "_uuid": "c75937c533563b9559f66aef28daf4e4a4e6b637"
   },
   "outputs": [
    {
     "name": "stdout",
     "output_type": "stream",
     "text": [
      "7\n"
     ]
    }
   ],
   "source": [
    "a = 0b00000101\n",
    "#这样写表示是binary\n",
    "b = 0b00000011\n",
    "print(a | b)"
   ]
  },
  {
   "cell_type": "markdown",
   "metadata": {
    "_uuid": "0493872c8283f1d7c3f33113c42a9e629c23d8e1"
   },
   "source": [
    "~ not 反过来\n",
    "\n",
    "反向之后怎么知道是几呢？\n",
    "\n",
    "b  = 0b00000011\n",
    "\n",
    "~b = 0b11111100\n",
    "\n",
    "先回去\n",
    "\n",
    "b  = 00000011\n",
    "\n",
    "++     00000001\n",
    "\n",
    "=     00000100\n",
    "\n",
    "是4！那么~b是-4\n"
   ]
  },
  {
   "cell_type": "code",
   "execution_count": 24,
   "metadata": {
    "_uuid": "cfb534639821ea83edcf2cb461c051593623658d",
    "scrolled": true
   },
   "outputs": [
    {
     "name": "stdout",
     "output_type": "stream",
     "text": [
      "-6\n",
      "-4\n"
     ]
    }
   ],
   "source": [
    "a = 0b00000101\n",
    "b = 0b00000011\n",
    "r = 0b11111100#首位是1，则是负数\n",
    "print(~a)\n",
    "print(~b)"
   ]
  },
  {
   "cell_type": "code",
   "execution_count": null,
   "metadata": {
    "_uuid": "8060d8ff0dce8ff2ea32659d2557275f691ace97",
    "collapsed": true
   },
   "outputs": [],
   "source": []
  },
  {
   "cell_type": "code",
   "execution_count": null,
   "metadata": {
    "_uuid": "c24cabf894199016831e872d4c7c9aeb2fdd3ee7",
    "collapsed": true
   },
   "outputs": [],
   "source": []
  },
  {
   "cell_type": "code",
   "execution_count": null,
   "metadata": {
    "_uuid": "8b0a67eb259acd42fb825f01c3aeb0ad91528e22",
    "collapsed": true
   },
   "outputs": [],
   "source": []
  },
  {
   "cell_type": "code",
   "execution_count": null,
   "metadata": {
    "_uuid": "b93555b071f479b05d8294cc4d87bba5cfcf05c5",
    "collapsed": true
   },
   "outputs": [],
   "source": []
  }
 ],
 "metadata": {
  "kernelspec": {
   "display_name": "Python 3",
   "language": "python",
   "name": "python3"
  },
  "language_info": {
   "codemirror_mode": {
    "name": "ipython",
    "version": 3
   },
   "file_extension": ".py",
   "mimetype": "text/x-python",
   "name": "python",
   "nbconvert_exporter": "python",
   "pygments_lexer": "ipython3",
   "version": "3.6.3"
  }
 },
 "nbformat": 4,
 "nbformat_minor": 1
}
