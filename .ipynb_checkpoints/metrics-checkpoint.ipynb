{
 "cells": [
  {
   "cell_type": "code",
   "execution_count": 95,
   "metadata": {},
   "outputs": [],
   "source": [
    "import pandas as pd\n",
    "import numpy as np\n",
    "from sklearn import datasets\n",
    "from sklearn.tree import DecisionTreeClassifier\n",
    "from sklearn.model_selection import train_test_split\n",
    "from sklearn.metrics import roc_auc_score"
   ]
  },
  {
   "cell_type": "code",
   "execution_count": 33,
   "metadata": {},
   "outputs": [],
   "source": [
    "X,y= datasets.make_classification(n_samples=500,n_features=5)"
   ]
  },
  {
   "cell_type": "code",
   "execution_count": 127,
   "metadata": {},
   "outputs": [],
   "source": [
    "X_tr, X_te, y_tr, y_te = train_test_split(X,y,test_size = 0.3, random_state = 11)"
   ]
  },
  {
   "cell_type": "code",
   "execution_count": 128,
   "metadata": {},
   "outputs": [],
   "source": [
    "clf = DecisionTreeClassifier(max_depth=3)\n",
    "clf.fit(X_tr, y_tr)\n",
    "pred = clf.predict_proba(X_te)"
   ]
  },
  {
   "cell_type": "code",
   "execution_count": 129,
   "metadata": {},
   "outputs": [
    {
     "data": {
      "text/plain": [
       "array([1.        , 1.        , 1.        , 0.12698413, 0.12698413,\n",
       "       1.        , 0.12698413, 0.8372093 , 0.        , 0.8372093 ,\n",
       "       0.8372093 , 0.8372093 , 0.8372093 , 0.8372093 , 0.12698413,\n",
       "       0.8372093 , 1.        , 0.15555556, 0.8372093 , 1.        ,\n",
       "       1.        , 1.        , 0.8372093 , 0.15555556, 1.        ,\n",
       "       0.12698413, 0.75      , 0.8372093 , 0.12698413, 0.15555556,\n",
       "       0.8372093 , 0.        , 0.15555556, 0.8372093 , 0.12698413,\n",
       "       0.8372093 , 0.        , 1.        , 0.8372093 , 0.8372093 ,\n",
       "       0.15555556, 0.8372093 , 1.        , 1.        , 0.        ,\n",
       "       0.8372093 , 0.15555556, 0.12698413, 1.        , 0.12698413,\n",
       "       0.15555556, 0.12698413, 1.        , 0.8372093 , 0.12698413,\n",
       "       0.12698413, 0.8372093 , 0.12698413, 0.75      , 1.        ,\n",
       "       1.        , 0.15555556, 0.15555556, 0.8372093 , 0.15555556,\n",
       "       0.8372093 , 0.12698413, 0.15555556, 0.        , 1.        ,\n",
       "       1.        , 0.75      , 0.12698413, 0.15555556, 0.        ,\n",
       "       1.        , 1.        , 0.15555556, 0.15555556, 0.8372093 ,\n",
       "       0.8372093 , 0.15555556, 1.        , 0.8372093 , 0.        ,\n",
       "       0.15555556, 1.        , 0.8372093 , 0.12698413, 1.        ,\n",
       "       0.        , 0.8372093 , 1.        , 0.12698413, 0.8372093 ,\n",
       "       1.        , 0.15555556, 0.        , 0.        , 0.8372093 ,\n",
       "       0.75      , 1.        , 0.15555556, 0.        , 0.        ,\n",
       "       0.15555556, 0.        , 0.12698413, 0.15555556, 0.8372093 ,\n",
       "       1.        , 0.15555556, 0.        , 0.8372093 , 0.15555556,\n",
       "       0.12698413, 0.        , 0.8372093 , 0.8372093 , 0.8372093 ,\n",
       "       0.12698413, 0.        , 1.        , 0.8372093 , 0.15555556,\n",
       "       0.12698413, 0.8372093 , 0.15555556, 0.        , 0.        ,\n",
       "       1.        , 0.8372093 , 0.8372093 , 0.12698413, 0.15555556,\n",
       "       0.15555556, 1.        , 0.8372093 , 1.        , 0.8372093 ,\n",
       "       0.        , 1.        , 1.        , 0.12698413, 0.8372093 ,\n",
       "       0.12698413, 1.        , 0.12698413, 0.15555556, 1.        ])"
      ]
     },
     "execution_count": 129,
     "metadata": {},
     "output_type": "execute_result"
    }
   ],
   "source": [
    "pred[:,1]"
   ]
  },
  {
   "cell_type": "code",
   "execution_count": 130,
   "metadata": {},
   "outputs": [
    {
     "data": {
      "text/plain": [
       "array([1, 1, 1, 0, 1, 1, 0, 0, 0, 1, 1, 0, 1, 1, 0, 1, 1, 0, 0, 1, 1, 1,\n",
       "       1, 0, 1, 0, 1, 1, 0, 0, 0, 0, 0, 0, 1, 1, 0, 1, 1, 1, 0, 1, 1, 1,\n",
       "       0, 1, 0, 0, 1, 0, 1, 0, 1, 1, 0, 0, 1, 0, 0, 1, 1, 1, 0, 0, 0, 1,\n",
       "       1, 0, 0, 1, 1, 1, 0, 0, 0, 1, 1, 0, 0, 1, 1, 0, 1, 1, 0, 0, 1, 1,\n",
       "       0, 1, 0, 0, 1, 0, 1, 1, 0, 0, 0, 1, 1, 1, 0, 0, 0, 0, 0, 0, 0, 0,\n",
       "       1, 0, 0, 1, 0, 0, 0, 0, 1, 1, 0, 0, 1, 1, 0, 0, 0, 0, 0, 0, 1, 0,\n",
       "       1, 0, 1, 1, 1, 1, 1, 1, 0, 1, 1, 0, 1, 0, 1, 0, 0, 1])"
      ]
     },
     "execution_count": 130,
     "metadata": {},
     "output_type": "execute_result"
    }
   ],
   "source": [
    "y_te"
   ]
  },
  {
   "cell_type": "code",
   "execution_count": 131,
   "metadata": {},
   "outputs": [
    {
     "data": {
      "text/plain": [
       "0.9242532005689901"
      ]
     },
     "execution_count": 131,
     "metadata": {},
     "output_type": "execute_result"
    }
   ],
   "source": [
    "roc_auc_score(y_te, pred[:,1])"
   ]
  },
  {
   "cell_type": "code",
   "execution_count": 64,
   "metadata": {},
   "outputs": [],
   "source": [
    "y_true = y_te.copy()"
   ]
  },
  {
   "cell_type": "code",
   "execution_count": 65,
   "metadata": {},
   "outputs": [],
   "source": [
    "y_true = (y_true == 1)"
   ]
  },
  {
   "cell_type": "code",
   "execution_count": 66,
   "metadata": {},
   "outputs": [
    {
     "data": {
      "text/plain": [
       "array([ True,  True,  True,  True,  True,  True,  True, False,  True,\n",
       "       False,  True,  True,  True,  True, False, False,  True, False,\n",
       "        True, False, False,  True,  True,  True,  True,  True,  True,\n",
       "       False,  True, False,  True, False, False,  True, False,  True,\n",
       "       False,  True, False, False, False,  True,  True, False, False,\n",
       "       False,  True, False,  True, False,  True,  True, False,  True,\n",
       "        True, False,  True,  True,  True, False, False, False, False,\n",
       "       False,  True, False, False,  True, False, False, False, False,\n",
       "       False,  True,  True,  True, False,  True,  True, False,  True,\n",
       "       False,  True,  True, False,  True, False,  True,  True, False,\n",
       "       False,  True, False,  True,  True, False,  True,  True, False,\n",
       "       False, False,  True, False,  True, False, False,  True,  True,\n",
       "        True, False,  True,  True,  True, False, False,  True,  True,\n",
       "       False, False,  True, False, False,  True, False, False, False,\n",
       "        True,  True, False, False, False, False, False,  True, False,\n",
       "        True, False, False,  True,  True, False,  True, False,  True,\n",
       "       False,  True,  True,  True,  True,  True])"
      ]
     },
     "execution_count": 66,
     "metadata": {},
     "output_type": "execute_result"
    }
   ],
   "source": [
    "y_true"
   ]
  },
  {
   "cell_type": "code",
   "execution_count": 70,
   "metadata": {},
   "outputs": [],
   "source": [
    "y_score = pred[:,1].copy()"
   ]
  },
  {
   "cell_type": "raw",
   "metadata": {},
   "source": [
    "sort so we can decide where we should set threshold value"
   ]
  },
  {
   "cell_type": "code",
   "execution_count": 71,
   "metadata": {},
   "outputs": [],
   "source": [
    "desc_score_indices = np.argsort(y_score, kind=\"mergesort\")[::-1]\n",
    "y_score = y_score[desc_score_indices]\n",
    "y_true = y_true[desc_score_indices]"
   ]
  },
  {
   "cell_type": "code",
   "execution_count": 72,
   "metadata": {},
   "outputs": [
    {
     "data": {
      "text/plain": [
       "array([1., 1., 1., 1., 1.])"
      ]
     },
     "execution_count": 72,
     "metadata": {},
     "output_type": "execute_result"
    }
   ],
   "source": [
    "y_score[:5]"
   ]
  },
  {
   "cell_type": "code",
   "execution_count": 74,
   "metadata": {},
   "outputs": [
    {
     "data": {
      "text/plain": [
       "array([ True,  True, False,  True,  True])"
      ]
     },
     "execution_count": 74,
     "metadata": {},
     "output_type": "execute_result"
    }
   ],
   "source": [
    "y_true[:5]"
   ]
  },
  {
   "cell_type": "code",
   "execution_count": 75,
   "metadata": {},
   "outputs": [],
   "source": [
    "distinct_value_indices = np.where(np.diff(y_score))[0]"
   ]
  },
  {
   "cell_type": "code",
   "execution_count": 76,
   "metadata": {},
   "outputs": [
    {
     "data": {
      "text/plain": [
       "array([ 34,  64,  66,  91, 105])"
      ]
     },
     "execution_count": 76,
     "metadata": {},
     "output_type": "execute_result"
    }
   ],
   "source": [
    "distinct_value_indices"
   ]
  },
  {
   "cell_type": "code",
   "execution_count": 108,
   "metadata": {},
   "outputs": [
    {
     "data": {
      "text/plain": [
       "array([1.        , 0.9122807 , 0.5       , 0.26865672, 0.21212121])"
      ]
     },
     "execution_count": 108,
     "metadata": {},
     "output_type": "execute_result"
    }
   ],
   "source": [
    "y_score[distinct_value_indices]"
   ]
  },
  {
   "cell_type": "code",
   "execution_count": 109,
   "metadata": {},
   "outputs": [],
   "source": [
    "threshold_idxs = np.r_[distinct_value_indices, y_true.size - 1]"
   ]
  },
  {
   "cell_type": "code",
   "execution_count": 110,
   "metadata": {},
   "outputs": [
    {
     "data": {
      "text/plain": [
       "array([ 34,  64,  66,  91, 105, 149])"
      ]
     },
     "execution_count": 110,
     "metadata": {},
     "output_type": "execute_result"
    }
   ],
   "source": [
    "threshold_idxs"
   ]
  },
  {
   "cell_type": "code",
   "execution_count": 111,
   "metadata": {},
   "outputs": [],
   "source": [
    "# accumulate the true positives with decreasing threshold\n",
    "#index smaller than threshold_idx is larger than threshold value, so it should be classified as positive.\n",
    "tps = np.cumsum(y_true)[threshold_idxs]"
   ]
  },
  {
   "cell_type": "code",
   "execution_count": 112,
   "metadata": {},
   "outputs": [
    {
     "data": {
      "text/plain": [
       "array([27, 46, 47, 55, 62, 79])"
      ]
     },
     "execution_count": 112,
     "metadata": {},
     "output_type": "execute_result"
    }
   ],
   "source": [
    "tps"
   ]
  },
  {
   "cell_type": "code",
   "execution_count": 93,
   "metadata": {},
   "outputs": [],
   "source": [
    "fps = 1 + threshold_idxs - tps"
   ]
  },
  {
   "cell_type": "code",
   "execution_count": 94,
   "metadata": {},
   "outputs": [
    {
     "data": {
      "text/plain": [
       "array([ 8, 19, 20, 37, 44, 71])"
      ]
     },
     "execution_count": 94,
     "metadata": {},
     "output_type": "execute_result"
    }
   ],
   "source": [
    "fps"
   ]
  },
  {
   "cell_type": "code",
   "execution_count": 135,
   "metadata": {},
   "outputs": [],
   "source": [
    "def _binary_clf_curve(y_true, y_score):\n",
    "    desc_score_indices = np.argsort(y_score, kind=\"mergesort\")[::-1]\n",
    "    y_score = y_score[desc_score_indices]\n",
    "    \n",
    "    y_true = y_true[desc_score_indices]\n",
    "    \n",
    "    distinct_value_indices = np.where(np.diff(y_score))[0]\n",
    "    \n",
    "    threshold_idxs = np.r_[distinct_value_indices, y_true.size - 1]\n",
    "    \n",
    "    tps = np.cumsum(y_true)[threshold_idxs]\n",
    "    \n",
    "    fps = 1 + threshold_idxs - tps\n",
    "    \n",
    "    return tps, fps, y_score[threshold_idxs]"
   ]
  },
  {
   "cell_type": "code",
   "execution_count": 136,
   "metadata": {},
   "outputs": [],
   "source": [
    "tps, fps, thresholds = _binary_clf_curve(y_te, pred[:,1])"
   ]
  },
  {
   "cell_type": "code",
   "execution_count": 137,
   "metadata": {},
   "outputs": [
    {
     "data": {
      "text/plain": [
       "array([35, 64, 67, 71, 74, 74])"
      ]
     },
     "execution_count": 137,
     "metadata": {},
     "output_type": "execute_result"
    }
   ],
   "source": [
    "tps"
   ]
  },
  {
   "cell_type": "code",
   "execution_count": 138,
   "metadata": {},
   "outputs": [
    {
     "data": {
      "text/plain": [
       "array([ 0, 11, 12, 35, 57, 76])"
      ]
     },
     "execution_count": 138,
     "metadata": {},
     "output_type": "execute_result"
    }
   ],
   "source": [
    "fps"
   ]
  },
  {
   "cell_type": "code",
   "execution_count": 139,
   "metadata": {},
   "outputs": [],
   "source": [
    "if tps.size == 0 or fps[0] != 0 or tps[0] != 0:\n",
    "    # Add an extra threshold position if necessary\n",
    "    # to make sure that the curve starts at (0, 0)\n",
    "    tps = np.r_[0, tps]\n",
    "    fps = np.r_[0, fps]\n",
    "    thresholds = np.r_[thresholds[0] + 1, thresholds]"
   ]
  },
  {
   "cell_type": "code",
   "execution_count": 140,
   "metadata": {},
   "outputs": [
    {
     "data": {
      "text/plain": [
       "array([ 0,  0, 11, 12, 35, 57, 76])"
      ]
     },
     "execution_count": 140,
     "metadata": {},
     "output_type": "execute_result"
    }
   ],
   "source": [
    "fps"
   ]
  },
  {
   "cell_type": "code",
   "execution_count": 141,
   "metadata": {},
   "outputs": [
    {
     "data": {
      "text/plain": [
       "array([ 0, 35, 64, 67, 71, 74, 74])"
      ]
     },
     "execution_count": 141,
     "metadata": {},
     "output_type": "execute_result"
    }
   ],
   "source": [
    "tps"
   ]
  },
  {
   "cell_type": "code",
   "execution_count": 142,
   "metadata": {},
   "outputs": [],
   "source": [
    "fpr = fps / fps[-1]"
   ]
  },
  {
   "cell_type": "code",
   "execution_count": 143,
   "metadata": {},
   "outputs": [
    {
     "data": {
      "text/plain": [
       "array([0.        , 0.        , 0.14473684, 0.15789474, 0.46052632,\n",
       "       0.75      , 1.        ])"
      ]
     },
     "execution_count": 143,
     "metadata": {},
     "output_type": "execute_result"
    }
   ],
   "source": [
    "fpr"
   ]
  },
  {
   "cell_type": "code",
   "execution_count": 144,
   "metadata": {},
   "outputs": [],
   "source": [
    "tpr = tps / tps[-1]"
   ]
  },
  {
   "cell_type": "code",
   "execution_count": 145,
   "metadata": {},
   "outputs": [
    {
     "data": {
      "text/plain": [
       "array([0.        , 0.        , 0.14473684, 0.15789474, 0.46052632,\n",
       "       0.75      , 1.        ])"
      ]
     },
     "execution_count": 145,
     "metadata": {},
     "output_type": "execute_result"
    }
   ],
   "source": [
    "fpr"
   ]
  },
  {
   "cell_type": "code",
   "execution_count": 157,
   "metadata": {},
   "outputs": [],
   "source": [
    "def fpr_tpr(tps, fps):\n",
    "    if tps.size == 0 or fps[0] != 0 or tps[0] != 0:\n",
    "        # Add an extra threshold position if necessary\n",
    "        # to make sure that the curve starts at (0, 0)\n",
    "        tps = np.r_[0, tps]\n",
    "        fps = np.r_[0, fps]\n",
    "    \n",
    "    fpr = fps / fps[-1]\n",
    "    tpr = tps / tps[-1]\n",
    "    \n",
    "    return(np.trapz(tpr, fpr))"
   ]
  },
  {
   "cell_type": "code",
   "execution_count": 158,
   "metadata": {},
   "outputs": [],
   "source": [
    "def auc_score(y_true, y_pred):\n",
    "    if len(y_pred[0]) > 1:\n",
    "        tps, fps, thresholds = _binary_clf_curve(y_te, y_pred[:,1])\n",
    "    else:\n",
    "        tps, fps, thresholds = _binary_clf_curve(y_te, y_pred)\n",
    "    return fpr_tpr(tps, fps)"
   ]
  },
  {
   "cell_type": "code",
   "execution_count": 159,
   "metadata": {},
   "outputs": [
    {
     "data": {
      "text/plain": [
       "0.9242532005689901"
      ]
     },
     "execution_count": 159,
     "metadata": {},
     "output_type": "execute_result"
    }
   ],
   "source": [
    "auc_score(y_te, pred)"
   ]
  },
  {
   "cell_type": "code",
   "execution_count": null,
   "metadata": {},
   "outputs": [],
   "source": [
    "#Helper function 1:\n",
    "def _binary_clf_curve(y_true, y_score):\n",
    "    #Help us set threshold values and get trup positive and false positive\n",
    "    #Sort probabilities so we know where to set threshold values\n",
    "    desc_score_indices = np.argsort(y_score, kind=\"mergesort\")[::-1]\n",
    "    \n",
    "    y_score = y_score[desc_score_indices]\n",
    "    \n",
    "    y_true = y_true[desc_score_indices]\n",
    "    \n",
    "    #find where y has unique values, and those index should be used to count\n",
    "    distinct_value_indices = np.where(np.diff(y_score))[0]\n",
    "    \n",
    "    #add the last value to make the last value to all positive\n",
    "    threshold_idxs = np.r_[distinct_value_indices, y_true.size - 1]\n",
    "    \n",
    "    #count how many positive\n",
    "    tps = np.cumsum(y_true)[threshold_idxs]\n",
    "    \n",
    "    fps = 1 + threshold_idxs - tps\n",
    "    \n",
    "    return tps, fps, y_score[threshold_idxs]\n",
    "\n",
    "#Helper function 2:\n",
    "#Use true positive and false positive to calculate the rates of each value and use Trapezoidal rule\n",
    "#to calculate the area\n",
    "def fpr_tpr(tps, fps):\n",
    "    if tps.size == 0 or fps[0] != 0 or tps[0] != 0:\n",
    "        # Add an extra threshold position if necessary\n",
    "        # to make sure that the curve starts at (0, 0)\n",
    "        tps = np.r_[0, tps]\n",
    "        fps = np.r_[0, fps]\n",
    "    \n",
    "    fpr = fps / fps[-1]\n",
    "    tpr = tps / tps[-1]\n",
    "    \n",
    "    return(np.trapz(tpr, fpr))\n",
    "#main function, make sure the input to helper function is probability of predicting the positive class\n",
    "def auc_score(y_true, y_pred):\n",
    "    if len(y_pred[0]) > 1:\n",
    "        tps, fps, thresholds = _binary_clf_curve(y_te, y_pred[:,1])\n",
    "    else:\n",
    "        tps, fps, thresholds = _binary_clf_curve(y_te, y_pred)\n",
    "    return fpr_tpr(tps, fps)\n"
   ]
  }
 ],
 "metadata": {
  "kernelspec": {
   "display_name": "Python 3",
   "language": "python",
   "name": "python3"
  },
  "language_info": {
   "codemirror_mode": {
    "name": "ipython",
    "version": 3
   },
   "file_extension": ".py",
   "mimetype": "text/x-python",
   "name": "python",
   "nbconvert_exporter": "python",
   "pygments_lexer": "ipython3",
   "version": "3.6.8"
  }
 },
 "nbformat": 4,
 "nbformat_minor": 2
}
