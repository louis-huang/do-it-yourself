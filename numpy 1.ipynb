{
 "cells": [
  {
   "cell_type": "code",
   "execution_count": 2,
   "metadata": {
    "_cell_guid": "b1076dfc-b9ad-4769-8c92-a6c4dae69d19",
    "_uuid": "8f2839f25d086af736a60e9eeb907d3b93b6e0e5"
   },
   "outputs": [],
   "source": [
    "import numpy as np \n",
    "import pandas as pd \n"
   ]
  },
  {
   "cell_type": "markdown",
   "metadata": {
    "_cell_guid": "f5e39119-f80f-4a74-a661-f6c58a9b231f",
    "_uuid": "81b125c211659c741ed872c5c9cb11271f57c849"
   },
   "source": [
    "# Table of Contents\n",
    "1. [np.array](#np.array)\n",
    "\n",
    "    [shape](#shape)\n",
    "    \n",
    "    [dtype](#dtype)\n",
    "    \n",
    "2. [Indexing and Slicing](#Indexing)\n",
    "\n",
    "    [Boolean indexing](#boolean)\n",
    "3. [Transpose](#Transpose)\n",
    "\n",
    "    [3d array transpose](#3dArray)\n",
    "    \n",
    "4. [some universal functions](#universal)\n",
    " \n",
    "     [np.modf](#np.modf)\n",
    "     \n",
    "     [np.isnan](#isnan)\n",
    "5. [data processing](#data_processing)\n",
    "\n",
    "    [np.meshgrid](#np.meshgrid)\n",
    "    \n",
    "    [np.where](#np.where)\n",
    "    \n",
    "6. [Statistical methods](#Statistical_methods)\n",
    " \n",
    "7.[Sorting](#Sorting)\n",
    " \n",
    "8.[Unique and other set logic](#np.unique)\n",
    " \n",
    "9.[np.n1d](#np.in1d)\n",
    "     \n",
    "10.[other](#other_functions)\n"
   ]
  },
  {
   "cell_type": "markdown",
   "metadata": {
    "_cell_guid": "79c7e3d0-c299-4dcb-8224-4455121ee9b0",
    "_uuid": "d629ff2d2480ee46fbb7e2d37f6b5fab8052498a",
    "collapsed": true
   },
   "source": [
    "1. Numpy\n",
    "====\n",
    "ndarray, a fast and space-efficient multidimensional array providing vectorized arithmetic operations and sophisticated broadcasting capabilities\n",
    "\n",
    "## np.array"
   ]
  },
  {
   "cell_type": "code",
   "execution_count": 3,
   "metadata": {
    "_cell_guid": "ee65542b-7bbe-4b5b-8d27-a8aab9a832b9",
    "_uuid": "12ab2a6edf81f3cd3dc98150079cf91320c29fc0",
    "collapsed": true
   },
   "outputs": [],
   "source": [
    "data = np.array([[1,2,3],[2,3,4]])"
   ]
  },
  {
   "cell_type": "code",
   "execution_count": 4,
   "metadata": {
    "_cell_guid": "722307ff-aa19-4f36-9892-f4be18190ae0",
    "_uuid": "c31773e08722e7749750f10e12b7053b67be2aff"
   },
   "outputs": [
    {
     "data": {
      "text/plain": [
       "array([[1, 2, 3],\n",
       "       [2, 3, 4]])"
      ]
     },
     "execution_count": 4,
     "metadata": {},
     "output_type": "execute_result"
    }
   ],
   "source": [
    "data"
   ]
  },
  {
   "cell_type": "markdown",
   "metadata": {
    "_cell_guid": "c89fddd0-2574-462c-a773-4a6843112e4d",
    "_uuid": "55cabc18d8a5546371799615029d103fe638bc5b"
   },
   "source": [
    "## shape\n",
    "==="
   ]
  },
  {
   "cell_type": "code",
   "execution_count": 5,
   "metadata": {
    "_cell_guid": "2f2fe2ab-4a95-4095-95d9-080f5e1c6dfa",
    "_uuid": "05d723c165802f5a4f2992b93169379ba9ca9a1e"
   },
   "outputs": [
    {
     "data": {
      "text/plain": [
       "(2, 3)"
      ]
     },
     "execution_count": 5,
     "metadata": {},
     "output_type": "execute_result"
    }
   ],
   "source": [
    "data.shape"
   ]
  },
  {
   "cell_type": "markdown",
   "metadata": {
    "_cell_guid": "d5d9551e-47da-41d4-81e1-f167da929fb4",
    "_uuid": "1d2742c7441b714042b918ddb792954b5dd1ea1d"
   },
   "source": [
    "## dtype\n",
    "数据的数据类型（所有数据是homogeneous同质的)： dtype\n",
    "====="
   ]
  },
  {
   "cell_type": "code",
   "execution_count": 6,
   "metadata": {
    "_cell_guid": "dc0cc4ad-6c56-46ca-9dd4-b457fe4c0e76",
    "_uuid": "ac33606f49a5965f8363cc09e4b6a63de0563944"
   },
   "outputs": [
    {
     "data": {
      "text/plain": [
       "dtype('int64')"
      ]
     },
     "execution_count": 6,
     "metadata": {},
     "output_type": "execute_result"
    }
   ],
   "source": [
    "data.dtype"
   ]
  },
  {
   "cell_type": "markdown",
   "metadata": {
    "_cell_guid": "f2a4b3f6-dfe3-4393-8540-533a62118b72",
    "_uuid": "8d7e1bc89536d02c7d542234f96691b71fc705a5"
   },
   "source": [
    "数据的dimension: ndim\n",
    "==="
   ]
  },
  {
   "cell_type": "code",
   "execution_count": 7,
   "metadata": {
    "_cell_guid": "ebb386e2-41be-4232-bd81-9464854087c8",
    "_uuid": "1baf51f475b882ef5466791bc2ef094bf599803d"
   },
   "outputs": [
    {
     "data": {
      "text/plain": [
       "2"
      ]
     },
     "execution_count": 7,
     "metadata": {},
     "output_type": "execute_result"
    }
   ],
   "source": [
    "data.ndim"
   ]
  },
  {
   "cell_type": "markdown",
   "metadata": {
    "_cell_guid": "e16c6a47-7d15-4868-be37-d11aea80e85d",
    "_uuid": "804de953489c51db698eb351b41f1cb1ae7b50b2"
   },
   "source": [
    "Create using zeros and ones\n",
    "======\n",
    "高维度，传入使用tuple。"
   ]
  },
  {
   "cell_type": "code",
   "execution_count": 8,
   "metadata": {
    "_cell_guid": "3e408df3-ee13-4261-a014-cf7192e60568",
    "_uuid": "98f2c387f55f5653895964f6d55a723c6d472c0b"
   },
   "outputs": [
    {
     "data": {
      "text/plain": [
       "array([0., 0., 0., 0., 0., 0., 0., 0., 0., 0.])"
      ]
     },
     "execution_count": 8,
     "metadata": {},
     "output_type": "execute_result"
    }
   ],
   "source": [
    "np.zeros(10)"
   ]
  },
  {
   "cell_type": "code",
   "execution_count": 9,
   "metadata": {
    "_cell_guid": "7931e1aa-c9eb-417c-b2be-35f7b56c7bba",
    "_uuid": "0aa34ab5cb5ec85e95af9ec10a37e682d5bd45c2"
   },
   "outputs": [
    {
     "data": {
      "text/plain": [
       "array([[1., 1., 1., 1., 1., 1., 1., 1., 1., 1.],\n",
       "       [1., 1., 1., 1., 1., 1., 1., 1., 1., 1.],\n",
       "       [1., 1., 1., 1., 1., 1., 1., 1., 1., 1.]])"
      ]
     },
     "execution_count": 9,
     "metadata": {},
     "output_type": "execute_result"
    }
   ],
   "source": [
    "np.ones((3,10))"
   ]
  },
  {
   "cell_type": "markdown",
   "metadata": {
    "_cell_guid": "c3b44271-aa81-45e4-b216-93180e4cadb0",
    "_uuid": "2a3c72302ba0c2c00739c94320d4c352af3d87c3"
   },
   "source": [
    "empty随机生成数组。"
   ]
  },
  {
   "cell_type": "code",
   "execution_count": 10,
   "metadata": {
    "_cell_guid": "fd04701c-95f7-4e8f-891c-a00c3ac6976b",
    "_uuid": "0b33175c89b69b0ae027e348dfc330c2fa481d19"
   },
   "outputs": [
    {
     "data": {
      "text/plain": [
       "array([[[7.90505033e-323, 0.00000000e+000],\n",
       "        [2.12199579e-314, 4.82337433e+228],\n",
       "        [5.82381892e-144, 1.16097020e-028]],\n",
       "\n",
       "       [[9.15566166e-072, 6.36885655e-062],\n",
       "        [4.90937993e-062, 3.97062373e+246],\n",
       "        [1.16318408e-028, 1.26752734e-071]]])"
      ]
     },
     "execution_count": 10,
     "metadata": {},
     "output_type": "execute_result"
    }
   ],
   "source": [
    "np.empty((2,3,2))"
   ]
  },
  {
   "cell_type": "code",
   "execution_count": 11,
   "metadata": {
    "_cell_guid": "22d519f1-d9fa-42d4-b0d2-dadcbef9c164",
    "_uuid": "e89698e728356e3cead5795a98a8f610a9819486"
   },
   "outputs": [
    {
     "data": {
      "text/plain": [
       "array([[[1., 1., 1., 1.],\n",
       "        [1., 1., 1., 1.],\n",
       "        [1., 1., 1., 1.]],\n",
       "\n",
       "       [[1., 1., 1., 1.],\n",
       "        [1., 1., 1., 1.],\n",
       "        [1., 1., 1., 1.]]])"
      ]
     },
     "execution_count": 11,
     "metadata": {},
     "output_type": "execute_result"
    }
   ],
   "source": [
    "np.ones((2,3,4))"
   ]
  },
  {
   "cell_type": "markdown",
   "metadata": {
    "_cell_guid": "c9a24702-1982-4082-8c33-18f183f05df5",
    "_uuid": "5c7c82362a3b088ea4d5517810b467a3ec7436bd"
   },
   "source": [
    "生成连续数字。和range很像，但是生成的是ndarray而不是list."
   ]
  },
  {
   "cell_type": "code",
   "execution_count": 12,
   "metadata": {
    "_cell_guid": "c22fc73f-4704-4547-b3c5-abadb31c43b7",
    "_uuid": "c5976c8796ea790ad0aa8527593c09ed14e3100e"
   },
   "outputs": [
    {
     "data": {
      "text/plain": [
       "array([-3, -2, -1,  0,  1,  2,  3,  4,  5,  6,  7,  8,  9, 10, 11])"
      ]
     },
     "execution_count": 12,
     "metadata": {},
     "output_type": "execute_result"
    }
   ],
   "source": [
    "np.arange(-3,12)"
   ]
  },
  {
   "cell_type": "markdown",
   "metadata": {
    "_cell_guid": "388be065-0ce2-45d7-a7ec-0f5cf56f9823",
    "_uuid": "5b29dcca2b979cd99d464a6a3823dcaeed5baf7b"
   },
   "source": [
    "ones_like takes another array and produces a ones array of the same shape and dtype."
   ]
  },
  {
   "cell_type": "code",
   "execution_count": 13,
   "metadata": {
    "_cell_guid": "8b213c75-bbaa-4d39-af89-29b0bad59dfe",
    "_uuid": "8c02f0ca8fa283d44b0d1a9bc363089871b76440"
   },
   "outputs": [
    {
     "data": {
      "text/plain": [
       "array([[[1., 1., 1., 1.],\n",
       "        [1., 1., 1., 1.],\n",
       "        [1., 1., 1., 1.]],\n",
       "\n",
       "       [[1., 1., 1., 1.],\n",
       "        [1., 1., 1., 1.],\n",
       "        [1., 1., 1., 1.]]])"
      ]
     },
     "execution_count": 13,
     "metadata": {},
     "output_type": "execute_result"
    }
   ],
   "source": [
    "np.ones_like(np.ones((2,3,4)))"
   ]
  },
  {
   "cell_type": "markdown",
   "metadata": {
    "_cell_guid": "1f1e482b-e746-4fe7-beca-1c3179f04618",
    "_uuid": "d6c956af783703a43aa3ed5171f24375ef351e7c"
   },
   "source": [
    "线性代数中常用的indentity matrix"
   ]
  },
  {
   "cell_type": "code",
   "execution_count": 14,
   "metadata": {
    "_cell_guid": "c15fdf6d-e1eb-445c-80fb-dd1ed54587f6",
    "_uuid": "124b790c56f6b98ecdd6ffc998b24ddfee159855"
   },
   "outputs": [
    {
     "data": {
      "text/plain": [
       "array([[1., 0., 0.],\n",
       "       [0., 1., 0.],\n",
       "       [0., 0., 1.]])"
      ]
     },
     "execution_count": 14,
     "metadata": {},
     "output_type": "execute_result"
    }
   ],
   "source": [
    "np.eye(3,3)"
   ]
  },
  {
   "cell_type": "code",
   "execution_count": 15,
   "metadata": {
    "_cell_guid": "ae2b7206-391e-42de-ac21-caf5a724b0ed",
    "_uuid": "93420fdd053304c6658d37c8fc7b3720e6c25283"
   },
   "outputs": [
    {
     "data": {
      "text/plain": [
       "array([[1., 0., 0., 0.],\n",
       "       [0., 1., 0., 0.],\n",
       "       [0., 0., 1., 0.],\n",
       "       [0., 0., 0., 1.]])"
      ]
     },
     "execution_count": 15,
     "metadata": {},
     "output_type": "execute_result"
    }
   ],
   "source": [
    "np.identity(4)"
   ]
  },
  {
   "cell_type": "markdown",
   "metadata": {
    "_cell_guid": "ce99ff96-bf74-4ffd-ba27-f545874f3007",
    "_uuid": "fe485d27afc1263834ebb9a1b956c1cb316bbdc5"
   },
   "source": [
    "控制data type"
   ]
  },
  {
   "cell_type": "code",
   "execution_count": 16,
   "metadata": {
    "_cell_guid": "4b878fbc-3887-4703-88de-249044e6562a",
    "_uuid": "ee4228e3a7962f9f450a931698db4ef3763a5249",
    "collapsed": true
   },
   "outputs": [],
   "source": [
    "arr1 = np.array([1,2,3],dtype = np.int32)"
   ]
  },
  {
   "cell_type": "code",
   "execution_count": 17,
   "metadata": {
    "_cell_guid": "4011eb56-dd9d-4aa1-98ef-816f5836fc5d",
    "_uuid": "a22d7b40e199d49af5de714cb3362b71d68aada2"
   },
   "outputs": [
    {
     "data": {
      "text/plain": [
       "dtype('int32')"
      ]
     },
     "execution_count": 17,
     "metadata": {},
     "output_type": "execute_result"
    }
   ],
   "source": [
    "arr1.dtype"
   ]
  },
  {
   "cell_type": "code",
   "execution_count": 18,
   "metadata": {
    "_cell_guid": "b6b3b971-7bb9-446b-8940-fb9c7d0b24bc",
    "_uuid": "4b0706249ff6aa916a83a5a94b0dbbe283ace74b"
   },
   "outputs": [
    {
     "data": {
      "text/plain": [
       "dtype('float64')"
      ]
     },
     "execution_count": 18,
     "metadata": {},
     "output_type": "execute_result"
    }
   ],
   "source": [
    "# 强制类型转化\n",
    "float_arr = arr1.astype(np.float64)\n",
    "float_arr.dtype"
   ]
  },
  {
   "cell_type": "code",
   "execution_count": 19,
   "metadata": {
    "_cell_guid": "60242773-d284-44f5-8e60-3d9f71119836",
    "_uuid": "6115ac78209e01bbfe06f5c8b1ae3beb1f3d8d08"
   },
   "outputs": [
    {
     "data": {
      "text/plain": [
       "array([  1,  32, 243], dtype=int32)"
      ]
     },
     "execution_count": 19,
     "metadata": {},
     "output_type": "execute_result"
    }
   ],
   "source": [
    "arr1 ** 5"
   ]
  },
  {
   "cell_type": "code",
   "execution_count": 20,
   "metadata": {
    "_cell_guid": "1c98b000-3568-41bb-8987-2bc0294d3f51",
    "_uuid": "c3864e04402c8a52a71c8159c61cc582355520b8"
   },
   "outputs": [
    {
     "data": {
      "text/plain": [
       "array([1.        , 0.5       , 0.33333333])"
      ]
     },
     "execution_count": 20,
     "metadata": {},
     "output_type": "execute_result"
    }
   ],
   "source": [
    "1/arr1"
   ]
  },
  {
   "cell_type": "code",
   "execution_count": 21,
   "metadata": {
    "_cell_guid": "4abc7bdd-f50c-4e07-a3e1-e65990d6001c",
    "_uuid": "7b991ec68035f21e28e123674a9aff7ba8f39459",
    "scrolled": true
   },
   "outputs": [
    {
     "data": {
      "text/plain": [
       "array([-2, -1,  0,  1,  2,  3])"
      ]
     },
     "execution_count": 21,
     "metadata": {},
     "output_type": "execute_result"
    }
   ],
   "source": [
    "arr1 = np.arange(-2,4)\n",
    "arr1"
   ]
  },
  {
   "cell_type": "markdown",
   "metadata": {
    "_cell_guid": "225889d1-c37b-471f-bfca-6f74e3f815c2",
    "_uuid": "7156bd3dd1ce9b172473dc6cc305e4282e7ecda6"
   },
   "source": [
    "## Indexing\n",
    "and slicing\n",
    "==="
   ]
  },
  {
   "cell_type": "code",
   "execution_count": 22,
   "metadata": {
    "_cell_guid": "584f8562-547c-4cb2-8572-b3c68f1bb911",
    "_uuid": "6b53db03a6b307c6406352aa12d974c1992ea57b"
   },
   "outputs": [
    {
     "data": {
      "text/plain": [
       "array([-1,  0])"
      ]
     },
     "execution_count": 22,
     "metadata": {},
     "output_type": "execute_result"
    }
   ],
   "source": [
    "arr1[1:3]"
   ]
  },
  {
   "cell_type": "code",
   "execution_count": 23,
   "metadata": {
    "_cell_guid": "3fb29a27-a734-4c8e-9fa7-15960f174db8",
    "_uuid": "c7297459ff2ce1d38cc976297e65e95c5cf81b65",
    "collapsed": true
   },
   "outputs": [],
   "source": [
    "arr1[3:5] = 0"
   ]
  },
  {
   "cell_type": "code",
   "execution_count": 24,
   "metadata": {
    "_cell_guid": "aa651870-8e1f-4406-ba86-06ee69650876",
    "_uuid": "ddce8232e5a6b9e9b8739fbf7205cdfea89a4e15"
   },
   "outputs": [
    {
     "data": {
      "text/plain": [
       "array([-2, -1,  0,  0,  0,  3])"
      ]
     },
     "execution_count": 24,
     "metadata": {},
     "output_type": "execute_result"
    }
   ],
   "source": [
    "arr1"
   ]
  },
  {
   "cell_type": "markdown",
   "metadata": {
    "_cell_guid": "8c749ae1-7e25-43ba-9dd5-2a766a6debbc",
    "_uuid": "2bd834e4cc42f1e8ab321c1285645683218c561c"
   },
   "source": [
    "需要注意的是，切片是对原数组的显示，并不是复制，因此修改切片，等同于在修改原来的数据。\n",
    "===="
   ]
  },
  {
   "cell_type": "code",
   "execution_count": 25,
   "metadata": {
    "_cell_guid": "5ccc1a36-cf37-4ffd-b5ab-ce207dbf9cec",
    "_uuid": "49fcf39224dce8572d3eb10efdbd3262ad6f22b6",
    "collapsed": true
   },
   "outputs": [],
   "source": [
    "arr_slice = arr1[1:3]"
   ]
  },
  {
   "cell_type": "code",
   "execution_count": 26,
   "metadata": {
    "_cell_guid": "7805d081-b4b5-49c9-afb2-a29c245fe85b",
    "_uuid": "218eeefb475e3dca65683baa7bbdf051e400e0ff",
    "collapsed": true
   },
   "outputs": [],
   "source": [
    "arr_slice[1] = 12345"
   ]
  },
  {
   "cell_type": "code",
   "execution_count": 27,
   "metadata": {
    "_cell_guid": "f9429fa3-b1af-4c0c-a9ea-835fc3906f06",
    "_uuid": "7574aefab09c64dd317c8a6e203e080006f7cd29"
   },
   "outputs": [
    {
     "data": {
      "text/plain": [
       "array([   -2,    -1, 12345,     0,     0,     3])"
      ]
     },
     "execution_count": 27,
     "metadata": {},
     "output_type": "execute_result"
    }
   ],
   "source": [
    "arr1"
   ]
  },
  {
   "cell_type": "code",
   "execution_count": 28,
   "metadata": {
    "_cell_guid": "795a8b7c-0d8f-4976-9747-11ba56742b07",
    "_uuid": "dd43c7a33c43424f9e309845555e8f52aaed7dcb"
   },
   "outputs": [
    {
     "data": {
      "text/plain": [
       "array([   -1, 12345])"
      ]
     },
     "execution_count": 28,
     "metadata": {},
     "output_type": "execute_result"
    }
   ],
   "source": [
    "arr_slice"
   ]
  },
  {
   "cell_type": "code",
   "execution_count": 29,
   "metadata": {
    "_cell_guid": "d2c5f091-1445-4e86-aa7e-e8727175d6d9",
    "_uuid": "a0288d600b9273b5df2e325415b67315af0123d8",
    "collapsed": true
   },
   "outputs": [],
   "source": [
    "arr_slice[:] = -1"
   ]
  },
  {
   "cell_type": "code",
   "execution_count": 30,
   "metadata": {
    "_cell_guid": "97da5fa4-1485-4aaf-bfab-04bc00447e49",
    "_uuid": "9d93bd69d88894a6636f42376f4aeb93a306ce6f"
   },
   "outputs": [
    {
     "data": {
      "text/plain": [
       "array([-2, -1, -1,  0,  0,  3])"
      ]
     },
     "execution_count": 30,
     "metadata": {},
     "output_type": "execute_result"
    }
   ],
   "source": [
    "arr1"
   ]
  },
  {
   "cell_type": "code",
   "execution_count": 31,
   "metadata": {
    "_cell_guid": "5b664e15-8937-440d-af1e-62ab47be1854",
    "_uuid": "f4401c4c32001b6e27880f004735830282aa96a8",
    "collapsed": true
   },
   "outputs": [],
   "source": [
    "arr2d = np.array([[1,2,3],[2,3,4],[5,6,7]])"
   ]
  },
  {
   "cell_type": "code",
   "execution_count": 32,
   "metadata": {
    "_cell_guid": "16800e8f-fbfd-4dfc-88ef-ac2e77e8f69e",
    "_uuid": "cfa08b35356471da53b5454b3ea78dc0c17db557"
   },
   "outputs": [
    {
     "data": {
      "text/plain": [
       "array([5, 6, 7])"
      ]
     },
     "execution_count": 32,
     "metadata": {},
     "output_type": "execute_result"
    }
   ],
   "source": [
    "arr2d[2]"
   ]
  },
  {
   "cell_type": "markdown",
   "metadata": {
    "_cell_guid": "50c5aeee-36aa-4c49-8b6d-749920c56908",
    "_uuid": "7953d52b313a6b64b1d37076b85a1723a52ab65f"
   },
   "source": [
    "跟matblab是一样的。前面行数，后面列数。"
   ]
  },
  {
   "cell_type": "code",
   "execution_count": 33,
   "metadata": {
    "_cell_guid": "36376697-e9ae-4e89-925d-4223a08375df",
    "_uuid": "197640da90053475f5f654d5852d970c8e88bb29"
   },
   "outputs": [
    {
     "data": {
      "text/plain": [
       "6"
      ]
     },
     "execution_count": 33,
     "metadata": {},
     "output_type": "execute_result"
    }
   ],
   "source": [
    "arr2d[2][1]"
   ]
  },
  {
   "cell_type": "code",
   "execution_count": 34,
   "metadata": {
    "_cell_guid": "0e3c1c07-9b40-461f-86ff-b4c01feda492",
    "_uuid": "6202e797be334a6ad2c164ca4667a94fa4bbcf83",
    "collapsed": true
   },
   "outputs": [],
   "source": [
    "arr3d = np.array([[[1, 2, 3], [4, 5, 6]], [[7, 8, 9], [10, 11, 12]]])"
   ]
  },
  {
   "cell_type": "code",
   "execution_count": 35,
   "metadata": {
    "_cell_guid": "c0a69d53-8858-481e-8a0a-3c4bd7b01c3d",
    "_uuid": "75cd80727951fa95eaa80e1235278956b1add5de"
   },
   "outputs": [
    {
     "data": {
      "text/plain": [
       "array([[[ 1,  2,  3],\n",
       "        [ 4,  5,  6]],\n",
       "\n",
       "       [[ 7,  8,  9],\n",
       "        [10, 11, 12]]])"
      ]
     },
     "execution_count": 35,
     "metadata": {},
     "output_type": "execute_result"
    }
   ],
   "source": [
    "arr3d"
   ]
  },
  {
   "cell_type": "markdown",
   "metadata": {
    "_cell_guid": "7623dc0b-6d2b-46a9-ac0b-6d613b45a680",
    "_uuid": "fd5e23d9b7a8675f09181da07b4ebb08c0896fae"
   },
   "source": [
    "下面的方法相当于是访问坐标开头是1，0的点。如果看做三维坐标的话。"
   ]
  },
  {
   "cell_type": "code",
   "execution_count": 36,
   "metadata": {
    "_cell_guid": "10656f71-b368-4688-811d-fc17700b9101",
    "_uuid": "7156e7b70a036b230ec31d6b92470e3eee48f5b9"
   },
   "outputs": [
    {
     "data": {
      "text/plain": [
       "array([7, 8, 9])"
      ]
     },
     "execution_count": 36,
     "metadata": {},
     "output_type": "execute_result"
    }
   ],
   "source": [
    "arr3d[1,0]"
   ]
  },
  {
   "cell_type": "code",
   "execution_count": 37,
   "metadata": {
    "_cell_guid": "a6aacdb5-d78d-45d9-9477-44fa2e3e9abb",
    "_uuid": "5f25fe48f4dad2eb9ee713fc448aae0685334318"
   },
   "outputs": [
    {
     "data": {
      "text/plain": [
       "8"
      ]
     },
     "execution_count": 37,
     "metadata": {},
     "output_type": "execute_result"
    }
   ],
   "source": [
    "arr3d[1,0,1]"
   ]
  },
  {
   "cell_type": "code",
   "execution_count": 38,
   "metadata": {
    "_cell_guid": "098bf76d-c475-42a3-a144-5439396a9746",
    "_uuid": "045951857dac7954a4bf004e95fb69df5c18c5fa"
   },
   "outputs": [
    {
     "data": {
      "text/plain": [
       "array([[2, 3],\n",
       "       [3, 4]])"
      ]
     },
     "execution_count": 38,
     "metadata": {},
     "output_type": "execute_result"
    }
   ],
   "source": [
    "arr2d[:2,1:]"
   ]
  },
  {
   "cell_type": "markdown",
   "metadata": {
    "_cell_guid": "221ee1ed-20b9-4d38-9297-ced3527e350b",
    "_uuid": "aba1303922e10713fa8e2e96d01d6ce8cbe7036b",
    "collapsed": true
   },
   "source": [
    "## boolean \n",
    "indexing\n",
    "==="
   ]
  },
  {
   "cell_type": "code",
   "execution_count": 39,
   "metadata": {
    "_cell_guid": "c88cf062-8508-4df2-a69d-d335af9d5a81",
    "_uuid": "3dc3f9c42ad7bb4487a50c762f04756b01c0e3f9",
    "collapsed": true
   },
   "outputs": [],
   "source": [
    "data = np.random.randn(7,4)"
   ]
  },
  {
   "cell_type": "code",
   "execution_count": 40,
   "metadata": {
    "_cell_guid": "fb3d38dc-6b07-4cbd-9476-0a3d36db929b",
    "_uuid": "3d852af653a6907d9beb816aefe0660bd65dcc82"
   },
   "outputs": [
    {
     "data": {
      "text/plain": [
       "array([[-1.59677237,  0.08744915,  1.83955432, -0.64842387],\n",
       "       [-0.70055019,  1.23655734,  0.79043262, -1.30246783],\n",
       "       [ 0.43092198, -1.64814159,  0.58942781, -1.56558513],\n",
       "       [-1.96841216, -0.0583908 ,  0.60978593, -0.91911435],\n",
       "       [ 1.37718635,  1.83322743, -1.40671968, -0.09450981],\n",
       "       [ 0.32503326, -0.40117466,  0.57301664,  1.88857564],\n",
       "       [-0.052564  , -1.12924891,  0.69606116, -1.75057112]])"
      ]
     },
     "execution_count": 40,
     "metadata": {},
     "output_type": "execute_result"
    }
   ],
   "source": [
    "data"
   ]
  },
  {
   "cell_type": "code",
   "execution_count": 41,
   "metadata": {
    "_cell_guid": "cc3c88a9-cd1a-4326-a521-4d9bb92b6d4d",
    "_uuid": "6b897ab2c0677c8ab31d7c2d0e00cf534253d5c1",
    "collapsed": true
   },
   "outputs": [],
   "source": [
    "names = np.array(['Bob', 'Joe', 'Will', 'Bob', 'Will', 'Joe', 'Joe'])"
   ]
  },
  {
   "cell_type": "code",
   "execution_count": 42,
   "metadata": {
    "_cell_guid": "7b736ca2-eef8-428f-8504-0f655fc597f2",
    "_uuid": "7f365c6654b30ac763c07c0ba1f27face4b97a0c"
   },
   "outputs": [
    {
     "data": {
      "text/plain": [
       "array([ True, False, False,  True, False, False, False])"
      ]
     },
     "execution_count": 42,
     "metadata": {},
     "output_type": "execute_result"
    }
   ],
   "source": [
    "names == 'Bob'"
   ]
  },
  {
   "cell_type": "code",
   "execution_count": 43,
   "metadata": {
    "_cell_guid": "962144b2-e2c6-4624-9e42-41a1a9fb9fe6",
    "_uuid": "c4077a2afa53d243ffd1b4d547d9ba9109916411"
   },
   "outputs": [
    {
     "data": {
      "text/plain": [
       "array([[-1.59677237,  0.08744915,  1.83955432, -0.64842387],\n",
       "       [-1.96841216, -0.0583908 ,  0.60978593, -0.91911435]])"
      ]
     },
     "execution_count": 43,
     "metadata": {},
     "output_type": "execute_result"
    }
   ],
   "source": [
    "data[names == 'Bob']"
   ]
  },
  {
   "cell_type": "code",
   "execution_count": 44,
   "metadata": {
    "_cell_guid": "64c42a8d-5bd3-4227-814d-4227bbe02363",
    "_uuid": "0a8c6a41d387da977154cbdf2400cde25b40d3fb"
   },
   "outputs": [
    {
     "data": {
      "text/plain": [
       "array([[ 1.83955432, -0.64842387],\n",
       "       [ 0.60978593, -0.91911435]])"
      ]
     },
     "execution_count": 44,
     "metadata": {},
     "output_type": "execute_result"
    }
   ],
   "source": [
    "data[names == 'Bob', 2:]"
   ]
  },
  {
   "cell_type": "code",
   "execution_count": 45,
   "metadata": {
    "_cell_guid": "f520ee95-7fb1-4640-99d6-75e2b339b941",
    "_uuid": "51aa2d19323bbccad9652340aaf963516316b0ca"
   },
   "outputs": [
    {
     "data": {
      "text/plain": [
       "array([[-0.70055019,  1.23655734,  0.79043262, -1.30246783],\n",
       "       [ 0.43092198, -1.64814159,  0.58942781, -1.56558513],\n",
       "       [ 1.37718635,  1.83322743, -1.40671968, -0.09450981],\n",
       "       [ 0.32503326, -0.40117466,  0.57301664,  1.88857564],\n",
       "       [-0.052564  , -1.12924891,  0.69606116, -1.75057112]])"
      ]
     },
     "execution_count": 45,
     "metadata": {},
     "output_type": "execute_result"
    }
   ],
   "source": [
    "data[(names != 'Bob')]"
   ]
  },
  {
   "cell_type": "code",
   "execution_count": 46,
   "metadata": {
    "_cell_guid": "193d2533-4c34-40bb-91fa-84ca9ea477ba",
    "_uuid": "6b8d7c7dfa3fc54cc44cd2f7658eff50a99348d6"
   },
   "outputs": [
    {
     "data": {
      "text/plain": [
       "array([[-1.59677237,  0.08744915,  1.83955432, -0.64842387],\n",
       "       [ 0.43092198, -1.64814159,  0.58942781, -1.56558513],\n",
       "       [-1.96841216, -0.0583908 ,  0.60978593, -0.91911435],\n",
       "       [ 1.37718635,  1.83322743, -1.40671968, -0.09450981]])"
      ]
     },
     "execution_count": 46,
     "metadata": {},
     "output_type": "execute_result"
    }
   ],
   "source": [
    "mask= (names == 'Bob') | (names == 'Will')\n",
    "data[mask]"
   ]
  },
  {
   "cell_type": "code",
   "execution_count": 47,
   "metadata": {
    "_cell_guid": "3c98f999-d31b-4e29-a4c1-81448b6103e0",
    "_uuid": "5f6b38d057c7b7d3e6a8972d16579131d7678a44",
    "collapsed": true
   },
   "outputs": [],
   "source": [
    "data[data < 0] = 0"
   ]
  },
  {
   "cell_type": "code",
   "execution_count": 48,
   "metadata": {
    "_cell_guid": "d03bd533-8c0b-4665-a519-93c7fbec427a",
    "_uuid": "2e8a31b8d6fc5ae2ee097a857a836308b0ce71d9"
   },
   "outputs": [
    {
     "data": {
      "text/plain": [
       "array([[0.        , 0.08744915, 1.83955432, 0.        ],\n",
       "       [0.        , 1.23655734, 0.79043262, 0.        ],\n",
       "       [0.43092198, 0.        , 0.58942781, 0.        ],\n",
       "       [0.        , 0.        , 0.60978593, 0.        ],\n",
       "       [1.37718635, 1.83322743, 0.        , 0.        ],\n",
       "       [0.32503326, 0.        , 0.57301664, 1.88857564],\n",
       "       [0.        , 0.        , 0.69606116, 0.        ]])"
      ]
     },
     "execution_count": 48,
     "metadata": {},
     "output_type": "execute_result"
    }
   ],
   "source": [
    "data"
   ]
  },
  {
   "cell_type": "code",
   "execution_count": 49,
   "metadata": {
    "_cell_guid": "cd785952-5781-45c1-ae7f-d256a9c66864",
    "_uuid": "3e8810777ed40140256bb1b5ea4a6c60b1e7b541",
    "collapsed": true
   },
   "outputs": [],
   "source": [
    "data[names != 'Joe'] = 9"
   ]
  },
  {
   "cell_type": "code",
   "execution_count": 50,
   "metadata": {
    "_cell_guid": "97e9c664-feec-4243-a517-c67286a28871",
    "_uuid": "b29417486fcbdfcd5583ed7b80fc6f7c4a7a794f"
   },
   "outputs": [
    {
     "data": {
      "text/plain": [
       "array([[9.        , 9.        , 9.        , 9.        ],\n",
       "       [0.        , 1.23655734, 0.79043262, 0.        ],\n",
       "       [9.        , 9.        , 9.        , 9.        ],\n",
       "       [9.        , 9.        , 9.        , 9.        ],\n",
       "       [9.        , 9.        , 9.        , 9.        ],\n",
       "       [0.32503326, 0.        , 0.57301664, 1.88857564],\n",
       "       [0.        , 0.        , 0.69606116, 0.        ]])"
      ]
     },
     "execution_count": 50,
     "metadata": {},
     "output_type": "execute_result"
    }
   ],
   "source": [
    "data"
   ]
  },
  {
   "cell_type": "markdown",
   "metadata": {
    "_cell_guid": "bfaf6552-60da-4c8d-ad57-60584e9fb6c2",
    "_uuid": "6d6973e9c50abae06a5326f56751d3340c8743ab"
   },
   "source": [
    "data[]里面可以传入一个array。正负都可以，就跟list一样。"
   ]
  },
  {
   "cell_type": "code",
   "execution_count": 51,
   "metadata": {
    "_cell_guid": "3184ea34-547a-44ec-8eaf-d2c1f8d17a15",
    "_uuid": "3fc24b117de80ff350786c39563815036ca16cfa"
   },
   "outputs": [
    {
     "data": {
      "text/plain": [
       "array([[0.        , 1.23655734, 0.79043262, 0.        ],\n",
       "       [9.        , 9.        , 9.        , 9.        ],\n",
       "       [9.        , 9.        , 9.        , 9.        ]])"
      ]
     },
     "execution_count": 51,
     "metadata": {},
     "output_type": "execute_result"
    }
   ],
   "source": [
    "data[[1,3,4]]"
   ]
  },
  {
   "cell_type": "code",
   "execution_count": 52,
   "metadata": {
    "_cell_guid": "c7ec4f90-ce8c-4b30-9a4c-59e86689cf84",
    "_uuid": "d8babb68b3d5f97a986625e3acf6beae25d57b9e"
   },
   "outputs": [
    {
     "data": {
      "text/plain": [
       "array([[9.        , 9.        , 9.        , 9.        ],\n",
       "       [0.        , 0.        , 0.69606116, 0.        ]])"
      ]
     },
     "execution_count": 52,
     "metadata": {},
     "output_type": "execute_result"
    }
   ],
   "source": [
    "data[[-7,-1]]"
   ]
  },
  {
   "cell_type": "code",
   "execution_count": 53,
   "metadata": {
    "_cell_guid": "cb64fed0-cd46-46d4-a536-eef999149e14",
    "_uuid": "b8fdd9223882e6ea0360d95232858fa5eb1f43e5"
   },
   "outputs": [
    {
     "data": {
      "text/plain": [
       "array([[ 0,  1,  2,  3],\n",
       "       [ 4,  5,  6,  7],\n",
       "       [ 8,  9, 10, 11],\n",
       "       [12, 13, 14, 15],\n",
       "       [16, 17, 18, 19],\n",
       "       [20, 21, 22, 23],\n",
       "       [24, 25, 26, 27],\n",
       "       [28, 29, 30, 31]])"
      ]
     },
     "execution_count": 53,
     "metadata": {},
     "output_type": "execute_result"
    }
   ],
   "source": [
    "arr = np.arange(32).reshape((8,4))\n",
    "arr"
   ]
  },
  {
   "cell_type": "markdown",
   "metadata": {
    "_cell_guid": "3d1989db-d84c-4000-81d9-52747e7fe357",
    "_uuid": "ae98f0bda73eab35fb9b06d86fae36b2a953b98c"
   },
   "source": [
    "输入两个array，就像是一组组坐标。"
   ]
  },
  {
   "cell_type": "code",
   "execution_count": 54,
   "metadata": {
    "_cell_guid": "204a36f1-90da-4bef-bb8d-9f7acdfa03d8",
    "_uuid": "34ffcfd306b4e49d895675684ed0c3d8ce299958"
   },
   "outputs": [
    {
     "data": {
      "text/plain": [
       "array([ 7,  8, 13])"
      ]
     },
     "execution_count": 54,
     "metadata": {},
     "output_type": "execute_result"
    }
   ],
   "source": [
    "arr[[1,2,3],[3,0,1]]"
   ]
  },
  {
   "cell_type": "markdown",
   "metadata": {
    "_cell_guid": "21d6fe64-3643-4366-8cba-f6dd123f9da6",
    "_uuid": "404d1d6b16cf7b188bbe0eb1b53c2f665a680d2e"
   },
   "source": [
    "下面这个方法很神奇，他是把第二个array放在了外面，就像重新给每一个元素定了位置。既可以给行改，又可以给列改！"
   ]
  },
  {
   "cell_type": "code",
   "execution_count": 55,
   "metadata": {
    "_cell_guid": "44a3afcf-d32d-4ab3-99a2-68e7e634aa12",
    "_uuid": "fa03667ef37088eafae6367aeeb101ddd28b4fbc"
   },
   "outputs": [
    {
     "data": {
      "text/plain": [
       "array([[ 4,  5,  6,  7],\n",
       "       [20, 21, 22, 23],\n",
       "       [28, 29, 30, 31],\n",
       "       [ 8,  9, 10, 11]])"
      ]
     },
     "execution_count": 55,
     "metadata": {},
     "output_type": "execute_result"
    }
   ],
   "source": [
    "arr[[1,5,7,2]]"
   ]
  },
  {
   "cell_type": "code",
   "execution_count": 56,
   "metadata": {
    "_cell_guid": "be3d18fc-30e1-4bde-b174-94c4d604b325",
    "_uuid": "c29863e5859b78e92b422753d74308cd05008dcb"
   },
   "outputs": [
    {
     "data": {
      "text/plain": [
       "array([[ 4,  7,  5,  6],\n",
       "       [20, 23, 21, 22],\n",
       "       [28, 31, 29, 30],\n",
       "       [ 8, 11,  9, 10]])"
      ]
     },
     "execution_count": 56,
     "metadata": {},
     "output_type": "execute_result"
    }
   ],
   "source": [
    "arr[[1,5,7,2]][:,[0,3,1,2]]"
   ]
  },
  {
   "cell_type": "code",
   "execution_count": 57,
   "metadata": {
    "_cell_guid": "6c6f625d-612c-4cd2-aea7-3a77ab2db465",
    "_uuid": "0a52daf934a3029e2330c75182886431ef3cd462"
   },
   "outputs": [
    {
     "data": {
      "text/plain": [
       "array([[ 4,  5,  6,  7],\n",
       "       [ 8,  9, 10, 11],\n",
       "       [20, 21, 22, 23],\n",
       "       [28, 29, 30, 31]])"
      ]
     },
     "execution_count": 57,
     "metadata": {},
     "output_type": "execute_result"
    }
   ],
   "source": [
    "arr[[1,5,7,2]][[0,3,1,2],:]"
   ]
  },
  {
   "cell_type": "markdown",
   "metadata": {
    "_cell_guid": "42f642f8-1eb7-44d4-b149-5cdffe068fec",
    "_uuid": "19810e7e8dfb3f2d084d487256e2223cb411d9ba"
   },
   "source": [
    "**np.ix_**下面这个方法是可以选择行，然后重新定位每一个位置。下面例子，选出了1，5，7，2行，然后改了位置。"
   ]
  },
  {
   "cell_type": "code",
   "execution_count": 58,
   "metadata": {
    "_cell_guid": "29d4cb8d-28b0-4227-8723-dc3a9002a066",
    "_uuid": "eb6873db3769a751a1f1503bd0be1146091ba622"
   },
   "outputs": [
    {
     "data": {
      "text/plain": [
       "array([[ 5,  4,  7,  6],\n",
       "       [21, 20, 23, 22],\n",
       "       [29, 28, 31, 30],\n",
       "       [ 9,  8, 11, 10]])"
      ]
     },
     "execution_count": 58,
     "metadata": {},
     "output_type": "execute_result"
    }
   ],
   "source": [
    "arr[np.ix_([1,5,7,2],[1,0,3,2])]"
   ]
  },
  {
   "cell_type": "markdown",
   "metadata": {
    "_cell_guid": "b54504c5-7bdc-4e53-a99a-a43e911efa18",
    "_uuid": "05b77868ab9146c1b6baaddbc9eea320fe7e3d3b"
   },
   "source": [
    "<A NAME=\"transpose\">Transposing Arrays and Swapping Axes</a>\n",
    "==="
   ]
  },
  {
   "cell_type": "code",
   "execution_count": 59,
   "metadata": {
    "_cell_guid": "a21886cb-e266-485c-8355-68bd62d59cf8",
    "_uuid": "797deeb49e6f52ded2464e5dbc8b252fef10574a",
    "collapsed": true
   },
   "outputs": [],
   "source": [
    "arr = np.arange(15).reshape((3,5))"
   ]
  },
  {
   "cell_type": "code",
   "execution_count": 60,
   "metadata": {
    "_cell_guid": "919c1634-7a78-4810-99dc-6204d28bde83",
    "_uuid": "3605f98be669998c9e4284f45b432bf030ad8045"
   },
   "outputs": [
    {
     "data": {
      "text/plain": [
       "array([[ 0,  1,  2,  3,  4],\n",
       "       [ 5,  6,  7,  8,  9],\n",
       "       [10, 11, 12, 13, 14]])"
      ]
     },
     "execution_count": 60,
     "metadata": {},
     "output_type": "execute_result"
    }
   ],
   "source": [
    "arr"
   ]
  },
  {
   "cell_type": "markdown",
   "metadata": {
    "_cell_guid": "334f0e0e-a00b-4dca-a1d1-63217d07a2bf",
    "_uuid": "df599b3a380222b5b2fe30858704a0bfd02b3ff8"
   },
   "source": [
    "## Transpose\n",
    "使用arr.T 或者np.transpose(arr)"
   ]
  },
  {
   "cell_type": "code",
   "execution_count": 61,
   "metadata": {
    "_cell_guid": "ee567ff5-f33c-471c-a658-22faf443a9ef",
    "_uuid": "a4b51e65d5eff3e0aa7933c6f3551e49a884cffe"
   },
   "outputs": [
    {
     "data": {
      "text/plain": [
       "array([[ 0,  5, 10],\n",
       "       [ 1,  6, 11],\n",
       "       [ 2,  7, 12],\n",
       "       [ 3,  8, 13],\n",
       "       [ 4,  9, 14]])"
      ]
     },
     "execution_count": 61,
     "metadata": {},
     "output_type": "execute_result"
    }
   ],
   "source": [
    "arr.T"
   ]
  },
  {
   "cell_type": "code",
   "execution_count": 62,
   "metadata": {
    "_cell_guid": "9b697fdb-be0b-448f-a8e1-0ebbcd15b0e7",
    "_uuid": "6cd37b5685e6512750bc26cde7005623d7d7a36d"
   },
   "outputs": [
    {
     "data": {
      "text/plain": [
       "array([[ 0,  1,  2,  3,  4],\n",
       "       [ 5,  6,  7,  8,  9],\n",
       "       [10, 11, 12, 13, 14]])"
      ]
     },
     "execution_count": 62,
     "metadata": {},
     "output_type": "execute_result"
    }
   ],
   "source": [
    "np.transpose(arr)\n",
    "arr"
   ]
  },
  {
   "cell_type": "markdown",
   "metadata": {
    "_cell_guid": "47e25f41-85e0-41a7-968c-d334a879ba40",
    "_uuid": "21ae6742fcf4a0f14925c88b2dea2756ac599a1f"
   },
   "source": [
    "np.dot\n",
    "===="
   ]
  },
  {
   "cell_type": "code",
   "execution_count": 63,
   "metadata": {
    "_cell_guid": "234bafd9-ca04-4a91-a997-d4d634691a55",
    "_uuid": "4b32228f5728aebabf2efe64dfaf2501c5a70fed",
    "collapsed": true
   },
   "outputs": [],
   "source": [
    "arr = np.random.randn(6,3)"
   ]
  },
  {
   "cell_type": "code",
   "execution_count": 64,
   "metadata": {
    "_cell_guid": "2d63f690-39c3-40f8-8be2-6bb1b2d4da3b",
    "_uuid": "12fcf8545a26f337db4f56985abd2a22fe04a0b5"
   },
   "outputs": [
    {
     "data": {
      "text/plain": [
       "array([[ 3.92881695, -0.69878605, -0.24487676],\n",
       "       [-0.69878605,  4.39598987,  3.42091076],\n",
       "       [-0.24487676,  3.42091076,  8.55737901]])"
      ]
     },
     "execution_count": 64,
     "metadata": {},
     "output_type": "execute_result"
    }
   ],
   "source": [
    "np.dot(arr.T,arr)"
   ]
  },
  {
   "cell_type": "code",
   "execution_count": 65,
   "metadata": {
    "_cell_guid": "5e0b2f42-26da-42bb-9a2d-8c6da539c80a",
    "_uuid": "c53d7a8c9796b8c4548fbc51fab5675010206fca"
   },
   "outputs": [
    {
     "data": {
      "text/plain": [
       "array([[[ 0,  1,  2,  3],\n",
       "        [ 4,  5,  6,  7]],\n",
       "\n",
       "       [[ 8,  9, 10, 11],\n",
       "        [12, 13, 14, 15]]])"
      ]
     },
     "execution_count": 65,
     "metadata": {},
     "output_type": "execute_result"
    }
   ],
   "source": [
    "arr = np.arange(16).reshape((2,2,4))\n",
    "arr"
   ]
  },
  {
   "cell_type": "code",
   "execution_count": 66,
   "metadata": {
    "_cell_guid": "d3817854-fda0-471e-bad8-f989f04a71ba",
    "_uuid": "1121b5d1378f00b24969447330019151d19b3865"
   },
   "outputs": [
    {
     "data": {
      "text/plain": [
       "array([[[ 0,  8],\n",
       "        [ 4, 12]],\n",
       "\n",
       "       [[ 1,  9],\n",
       "        [ 5, 13]],\n",
       "\n",
       "       [[ 2, 10],\n",
       "        [ 6, 14]],\n",
       "\n",
       "       [[ 3, 11],\n",
       "        [ 7, 15]]])"
      ]
     },
     "execution_count": 66,
     "metadata": {},
     "output_type": "execute_result"
    }
   ],
   "source": [
    "arr.T"
   ]
  },
  {
   "cell_type": "code",
   "execution_count": 67,
   "metadata": {
    "_cell_guid": "6dcf163d-753d-47a6-814a-f5bf3eb57a01",
    "_uuid": "2f37b74483a4cc3ee71c29b7f8c4d224e43ac834"
   },
   "outputs": [
    {
     "data": {
      "text/plain": [
       "array([[[ 0,  4],\n",
       "        [ 8, 12]],\n",
       "\n",
       "       [[ 1,  5],\n",
       "        [ 9, 13]],\n",
       "\n",
       "       [[ 2,  6],\n",
       "        [10, 14]],\n",
       "\n",
       "       [[ 3,  7],\n",
       "        [11, 15]]])"
      ]
     },
     "execution_count": 67,
     "metadata": {},
     "output_type": "execute_result"
    }
   ],
   "source": [
    "arr.transpose((2,0,1))"
   ]
  },
  {
   "cell_type": "markdown",
   "metadata": {
    "_cell_guid": "e1cab15f-e617-40be-9ba1-6966874e9ae7",
    "_uuid": "6de02f926917994ff8d5bf697aaccafc9ea14433"
   },
   "source": [
    "## 3dArray\n",
    "三维矩阵的转置！！！！！！\n",
    "===="
   ]
  },
  {
   "cell_type": "code",
   "execution_count": 68,
   "metadata": {
    "_cell_guid": "c5e05e3b-8e77-4d95-bb85-549d15217617",
    "_uuid": "6c4fcd689e21e90c4bd8aeb9a61f6da99a3fb139"
   },
   "outputs": [
    {
     "data": {
      "text/plain": [
       "array([[[ 0,  1,  2,  3],\n",
       "        [ 4,  5,  6,  7]],\n",
       "\n",
       "       [[ 8,  9, 10, 11],\n",
       "        [12, 13, 14, 15]]])"
      ]
     },
     "execution_count": 68,
     "metadata": {},
     "output_type": "execute_result"
    }
   ],
   "source": [
    "arr2 = np.arange(16).reshape(2,2,4)           \n",
    "arr2"
   ]
  },
  {
   "cell_type": "code",
   "execution_count": 69,
   "metadata": {
    "_cell_guid": "a63b1c77-1b1b-47cd-98a0-e993c14e74fe",
    "_uuid": "205da5594c7bc1d61aa0f4780d7a65e7dc46f253"
   },
   "outputs": [
    {
     "data": {
      "text/plain": [
       "array([[[ 0,  8],\n",
       "        [ 4, 12]],\n",
       "\n",
       "       [[ 1,  9],\n",
       "        [ 5, 13]],\n",
       "\n",
       "       [[ 2, 10],\n",
       "        [ 6, 14]],\n",
       "\n",
       "       [[ 3, 11],\n",
       "        [ 7, 15]]])"
      ]
     },
     "execution_count": 69,
     "metadata": {},
     "output_type": "execute_result"
    }
   ],
   "source": [
    "arr2_t = np.transpose(arr2)\n",
    "arr2_t"
   ]
  },
  {
   "cell_type": "code",
   "execution_count": 70,
   "metadata": {
    "_cell_guid": "1c54cbaa-aa80-4358-8cec-97afc41f8658",
    "_uuid": "3c1b78cd1538cfd2bc9ce39db40ff1f976e5569f"
   },
   "outputs": [
    {
     "data": {
      "text/plain": [
       "8"
      ]
     },
     "execution_count": 70,
     "metadata": {},
     "output_type": "execute_result"
    }
   ],
   "source": [
    "#See '8''s coordinates. before it's (1,0,0)\n",
    "arr2[1,0,0]"
   ]
  },
  {
   "cell_type": "code",
   "execution_count": 71,
   "metadata": {
    "_cell_guid": "b6b6b6b1-87dd-4e30-b2f6-fad3b06c99d4",
    "_uuid": "b0bda887dce3ca0406cee29dfabbe1b663512b7e"
   },
   "outputs": [
    {
     "data": {
      "text/plain": [
       "8"
      ]
     },
     "execution_count": 71,
     "metadata": {},
     "output_type": "execute_result"
    }
   ],
   "source": [
    "#after transpose it's (0,0,1) so this means z axis and y asix swapped so it's (2,1,0) in \n",
    "#transpose function!!!\n",
    "arr2_t[0,0,1]"
   ]
  },
  {
   "cell_type": "code",
   "execution_count": 72,
   "metadata": {
    "_cell_guid": "ba23a994-a7c0-4651-a646-e4823c6c6209",
    "_uuid": "5ec434e87e68dcd63367fee1e049a5e922ca2578"
   },
   "outputs": [
    {
     "data": {
      "text/plain": [
       "array([[[ 0,  8],\n",
       "        [ 4, 12]],\n",
       "\n",
       "       [[ 1,  9],\n",
       "        [ 5, 13]],\n",
       "\n",
       "       [[ 2, 10],\n",
       "        [ 6, 14]],\n",
       "\n",
       "       [[ 3, 11],\n",
       "        [ 7, 15]]])"
      ]
     },
     "execution_count": 72,
     "metadata": {},
     "output_type": "execute_result"
    }
   ],
   "source": [
    "arr2_tt = arr2.transpose((2,1,0))\n",
    "arr2_tt"
   ]
  },
  {
   "cell_type": "markdown",
   "metadata": {
    "_cell_guid": "e3eced21-918c-49a9-ad2c-33e22d838b45",
    "_uuid": "cf1630bbf5ca1fa4573376acfe927ac9d36fb391"
   },
   "source": [
    "因此，我们知道了，三维矩阵的转置就是transpose(x,(2,1,0))把z轴和y轴交换。我们可以从坐标的变化中看出来！所以transpose函数就是根据给定的shape去转换的。比如原来的2*2*3的矩阵，三个轴分别表示为（0，1，2），然后转置的时候写上啥，就是什么坐标互相交换，这样交换后的结果，就是我们转置了的矩阵啦！！再让我们看一个例子，一个2*4*4的矩阵，换成（1，0，2）\n",
    "==="
   ]
  },
  {
   "cell_type": "code",
   "execution_count": 73,
   "metadata": {
    "_cell_guid": "71f2e162-29e8-4d7a-ad86-f387f2055ff0",
    "_uuid": "193a7d7a4d2d79ca6b8b85ce2049147b472307e5"
   },
   "outputs": [
    {
     "data": {
      "text/plain": [
       "array([[[ 0,  1,  2,  3],\n",
       "        [ 4,  5,  6,  7],\n",
       "        [ 8,  9, 10, 11],\n",
       "        [12, 13, 14, 15]],\n",
       "\n",
       "       [[16, 17, 18, 19],\n",
       "        [20, 21, 22, 23],\n",
       "        [24, 25, 26, 27],\n",
       "        [28, 29, 30, 31]]])"
      ]
     },
     "execution_count": 73,
     "metadata": {},
     "output_type": "execute_result"
    }
   ],
   "source": [
    "arr4 = np.arange(32).reshape(2,4,4)\n",
    "arr4"
   ]
  },
  {
   "cell_type": "code",
   "execution_count": 74,
   "metadata": {
    "_cell_guid": "3622c8ed-0ca3-4356-8a0d-ae16d31b2a7a",
    "_uuid": "261bb8ebb865c306b0f8afa60cdb940b28303a23"
   },
   "outputs": [
    {
     "data": {
      "text/plain": [
       "array([[[ 0,  1,  2,  3],\n",
       "        [16, 17, 18, 19]],\n",
       "\n",
       "       [[ 4,  5,  6,  7],\n",
       "        [20, 21, 22, 23]],\n",
       "\n",
       "       [[ 8,  9, 10, 11],\n",
       "        [24, 25, 26, 27]],\n",
       "\n",
       "       [[12, 13, 14, 15],\n",
       "        [28, 29, 30, 31]]])"
      ]
     },
     "execution_count": 74,
     "metadata": {},
     "output_type": "execute_result"
    }
   ],
   "source": [
    "arr4.transpose(1,0,2)"
   ]
  },
  {
   "cell_type": "markdown",
   "metadata": {
    "_cell_guid": "aa91e900-d0c6-4c9b-bc42-ecd0f69f0376",
    "_uuid": "cc67b87c2f479b9339cbec30cf124ffad47e6600"
   },
   "source": [
    "就是把z和x的坐标换了一下啊！！例如还是看8"
   ]
  },
  {
   "cell_type": "code",
   "execution_count": 75,
   "metadata": {
    "_cell_guid": "dcbad925-52c9-4629-915d-4185dd684807",
    "_uuid": "f7da8a2d13e54023cb59e13bbfa7de2ef3634fe6"
   },
   "outputs": [
    {
     "data": {
      "text/plain": [
       "8"
      ]
     },
     "execution_count": 75,
     "metadata": {},
     "output_type": "execute_result"
    }
   ],
   "source": [
    "arr4[0,2,0]"
   ]
  },
  {
   "cell_type": "code",
   "execution_count": 76,
   "metadata": {
    "_cell_guid": "89e4bb83-96f6-4fab-82a9-92c82339b1ae",
    "_uuid": "0a1c506b33a720b0861e4c1115544c3e53b7cb36"
   },
   "outputs": [
    {
     "data": {
      "text/plain": [
       "8"
      ]
     },
     "execution_count": 76,
     "metadata": {},
     "output_type": "execute_result"
    }
   ],
   "source": [
    "arr4.transpose(1,0,2)[2,0,0]"
   ]
  },
  {
   "cell_type": "markdown",
   "metadata": {
    "_cell_guid": "dbf42610-f7bd-4630-965c-4b95c57d251c",
    "_uuid": "263878e800cf69c0fa1c4bdfee6ca3f89c76a0b7"
   },
   "source": [
    "we can prove this by using swapaxes function.\n",
    "==="
   ]
  },
  {
   "cell_type": "code",
   "execution_count": 77,
   "metadata": {
    "_cell_guid": "e8ad4746-1aa4-4b84-a63a-998e8193ab63",
    "_uuid": "feafb57a6b4cd16ca8ffe5d5306763233e73403d"
   },
   "outputs": [
    {
     "data": {
      "text/plain": [
       "array([[[ 0,  1,  2,  3],\n",
       "        [16, 17, 18, 19]],\n",
       "\n",
       "       [[ 4,  5,  6,  7],\n",
       "        [20, 21, 22, 23]],\n",
       "\n",
       "       [[ 8,  9, 10, 11],\n",
       "        [24, 25, 26, 27]],\n",
       "\n",
       "       [[12, 13, 14, 15],\n",
       "        [28, 29, 30, 31]]])"
      ]
     },
     "execution_count": 77,
     "metadata": {},
     "output_type": "execute_result"
    }
   ],
   "source": [
    "arr4.swapaxes(1,0)"
   ]
  },
  {
   "cell_type": "markdown",
   "metadata": {
    "_cell_guid": "392889e7-e992-48fc-9516-c6796e288b7d",
    "_uuid": "04c5e5bd70094c0b4a67c6155d98d8ca32753707"
   },
   "source": [
    "成功啦！！就是换axis!!! and we can approve it by using swapaxes....\n",
    "那么四维呢？？？"
   ]
  },
  {
   "cell_type": "code",
   "execution_count": 78,
   "metadata": {
    "_cell_guid": "00416739-0927-4e13-a231-7d62c9e3ad22",
    "_uuid": "1c49b6227408be111d249c53384bbf3739d29b04"
   },
   "outputs": [
    {
     "data": {
      "text/plain": [
       "array([[[[ 0,  1,  2,  3,  4],\n",
       "         [ 5,  6,  7,  8,  9]],\n",
       "\n",
       "        [[10, 11, 12, 13, 14],\n",
       "         [15, 16, 17, 18, 19]],\n",
       "\n",
       "        [[20, 21, 22, 23, 24],\n",
       "         [25, 26, 27, 28, 29]]],\n",
       "\n",
       "\n",
       "       [[[30, 31, 32, 33, 34],\n",
       "         [35, 36, 37, 38, 39]],\n",
       "\n",
       "        [[40, 41, 42, 43, 44],\n",
       "         [45, 46, 47, 48, 49]],\n",
       "\n",
       "        [[50, 51, 52, 53, 54],\n",
       "         [55, 56, 57, 58, 59]]]])"
      ]
     },
     "execution_count": 78,
     "metadata": {},
     "output_type": "execute_result"
    }
   ],
   "source": [
    "arr5 = np.arange(60).reshape(2,3,2,5)\n",
    "arr5"
   ]
  },
  {
   "cell_type": "markdown",
   "metadata": {
    "_cell_guid": "0aa25745-f0f9-4dfe-b256-883f28df3e7c",
    "_uuid": "88bcb51d3b2b98f9850b7d1f7bd67c49fdbb087d"
   },
   "source": [
    "我们可以观察28"
   ]
  },
  {
   "cell_type": "code",
   "execution_count": 79,
   "metadata": {
    "_cell_guid": "a48500d1-5bbb-4e5f-b084-cf1df7b01f98",
    "_uuid": "53a1f1023e9b863e534e9c7c9bf0c8797e787d7b"
   },
   "outputs": [
    {
     "data": {
      "text/plain": [
       "28"
      ]
     },
     "execution_count": 79,
     "metadata": {},
     "output_type": "execute_result"
    }
   ],
   "source": [
    "arr5[0,2,1,3]"
   ]
  },
  {
   "cell_type": "code",
   "execution_count": 80,
   "metadata": {
    "_cell_guid": "87b9d9cf-ccee-4b3c-aac5-6accc7e7a943",
    "_uuid": "1a7fefaa4ca95abad987067cbbbac9c0659742ae"
   },
   "outputs": [
    {
     "data": {
      "text/plain": [
       "array([[[[ 0, 30],\n",
       "         [10, 40],\n",
       "         [20, 50]],\n",
       "\n",
       "        [[ 5, 35],\n",
       "         [15, 45],\n",
       "         [25, 55]]],\n",
       "\n",
       "\n",
       "       [[[ 1, 31],\n",
       "         [11, 41],\n",
       "         [21, 51]],\n",
       "\n",
       "        [[ 6, 36],\n",
       "         [16, 46],\n",
       "         [26, 56]]],\n",
       "\n",
       "\n",
       "       [[[ 2, 32],\n",
       "         [12, 42],\n",
       "         [22, 52]],\n",
       "\n",
       "        [[ 7, 37],\n",
       "         [17, 47],\n",
       "         [27, 57]]],\n",
       "\n",
       "\n",
       "       [[[ 3, 33],\n",
       "         [13, 43],\n",
       "         [23, 53]],\n",
       "\n",
       "        [[ 8, 38],\n",
       "         [18, 48],\n",
       "         [28, 58]]],\n",
       "\n",
       "\n",
       "       [[[ 4, 34],\n",
       "         [14, 44],\n",
       "         [24, 54]],\n",
       "\n",
       "        [[ 9, 39],\n",
       "         [19, 49],\n",
       "         [29, 59]]]])"
      ]
     },
     "execution_count": 80,
     "metadata": {},
     "output_type": "execute_result"
    }
   ],
   "source": [
    "arr5_t = arr5.T\n",
    "arr5_t"
   ]
  },
  {
   "cell_type": "code",
   "execution_count": 81,
   "metadata": {
    "_cell_guid": "606a5291-4da8-4cb9-8a28-b458d670e44d",
    "_uuid": "f9d4081ce3bfcf61e6faf5810ceace9cc452590a"
   },
   "outputs": [
    {
     "data": {
      "text/plain": [
       "28"
      ]
     },
     "execution_count": 81,
     "metadata": {},
     "output_type": "execute_result"
    }
   ],
   "source": [
    "arr5_t[3,1,2,0]"
   ]
  },
  {
   "cell_type": "markdown",
   "metadata": {
    "_cell_guid": "f2276b88-47b3-43c2-9538-39bfb149aa1a",
    "_uuid": "d8e93a97dc1719fb1c16796568bd261120a3bdce"
   },
   "source": [
    "发现规律了！！就是shape反过来！！！原来是0，1，2，3现在是3，2，1，0。对于三维也适用。"
   ]
  },
  {
   "cell_type": "code",
   "execution_count": 82,
   "metadata": {
    "_cell_guid": "1967ca86-daf3-4686-b299-7cc1a8b3999c",
    "_uuid": "0944d96c8a4edd8e7b6e448333a7153a4f27f166"
   },
   "outputs": [
    {
     "data": {
      "text/plain": [
       "(5, 2, 3, 2)"
      ]
     },
     "execution_count": 82,
     "metadata": {},
     "output_type": "execute_result"
    }
   ],
   "source": [
    "arr5_t.shape"
   ]
  },
  {
   "cell_type": "markdown",
   "metadata": {
    "_cell_guid": "d5845f91-f0dc-41a4-8953-1d356bdd0bb7",
    "_uuid": "9485ee0e02a0b0063766f8260da32c9317bec457",
    "collapsed": true
   },
   "source": [
    "## universal\n",
    "\n",
    "## np.modf\n",
    "返回小数部分和正数部分为两个array\n",
    "==="
   ]
  },
  {
   "cell_type": "code",
   "execution_count": 83,
   "metadata": {
    "_cell_guid": "e0dc67d3-3423-47dd-aada-85c74c937dd9",
    "_uuid": "255522dc536800d14655b444f4c22c852905b54e"
   },
   "outputs": [
    {
     "data": {
      "text/plain": [
       "array([-6.11768355,  1.43707819, -3.44560286,  3.63351088, -0.71747536,\n",
       "       -3.5013666 ,  3.4375686 ])"
      ]
     },
     "execution_count": 83,
     "metadata": {},
     "output_type": "execute_result"
    }
   ],
   "source": [
    "arr = np.random.randn(7)*5\n",
    "arr"
   ]
  },
  {
   "cell_type": "code",
   "execution_count": 84,
   "metadata": {
    "_cell_guid": "b2f932a6-2faa-4b97-b312-af18e9615716",
    "_uuid": "f560520003ddd7d5828eb3584b284ee4b708599e"
   },
   "outputs": [
    {
     "data": {
      "text/plain": [
       "(array([-0.11768355,  0.43707819, -0.44560286,  0.63351088, -0.71747536,\n",
       "        -0.5013666 ,  0.4375686 ]), array([-6.,  1., -3.,  3., -0., -3.,  3.]))"
      ]
     },
     "execution_count": 84,
     "metadata": {},
     "output_type": "execute_result"
    }
   ],
   "source": [
    "np.modf(arr)"
   ]
  },
  {
   "cell_type": "markdown",
   "metadata": {
    "_cell_guid": "3b58c3bd-1c57-46a8-bb5a-e36e7efeb929",
    "_uuid": "7ec943994ae6f92812057f77556e75a699948a23"
   },
   "source": [
    "## isnan"
   ]
  },
  {
   "cell_type": "code",
   "execution_count": 85,
   "metadata": {
    "_cell_guid": "76e04485-18fd-4a24-a45e-67a998f05f33",
    "_uuid": "c30f9f46219dbca6235ea94a5b67c851c17e8b25"
   },
   "outputs": [
    {
     "data": {
      "text/plain": [
       "array([False, False, False, False, False, False, False])"
      ]
     },
     "execution_count": 85,
     "metadata": {},
     "output_type": "execute_result"
    }
   ],
   "source": [
    "np.isnan(arr)"
   ]
  },
  {
   "cell_type": "markdown",
   "metadata": {
    "_cell_guid": "5f0cc109-2171-4487-8741-1b79c6c46171",
    "_uuid": "b807d56d2e9f79efaf03183c6d13a3cdb4282889"
   },
   "source": [
    "## data_processing\n"
   ]
  },
  {
   "cell_type": "markdown",
   "metadata": {
    "_cell_guid": "612f8b9c-10cb-4c0a-b2c7-0ac333f64819",
    "_uuid": "74b30f9e2e96cc2452da4de24f158aa24aac6d7f"
   },
   "source": [
    "## np.meshgrid"
   ]
  },
  {
   "cell_type": "code",
   "execution_count": 86,
   "metadata": {
    "_cell_guid": "43789519-86e6-4250-ac96-97c13237d1b1",
    "_uuid": "a6d069fae11d326205a9a1149dea9caec1d481c8"
   },
   "outputs": [
    {
     "data": {
      "text/plain": [
       "array([-5, -4, -3, -2, -1,  0,  1,  2,  3,  4])"
      ]
     },
     "execution_count": 86,
     "metadata": {},
     "output_type": "execute_result"
    }
   ],
   "source": [
    "points = np.arange(-5, 5, 1)\n",
    "points"
   ]
  },
  {
   "cell_type": "code",
   "execution_count": 87,
   "metadata": {
    "_cell_guid": "40f162fc-e4c0-4422-a689-3bb73754cf2e",
    "_uuid": "f366e7022e90faa31669c0afa2782d04731652fd"
   },
   "outputs": [
    {
     "data": {
      "text/plain": [
       "array([[-5, -4, -3, -2, -1,  0,  1,  2,  3,  4],\n",
       "       [-5, -4, -3, -2, -1,  0,  1,  2,  3,  4],\n",
       "       [-5, -4, -3, -2, -1,  0,  1,  2,  3,  4],\n",
       "       [-5, -4, -3, -2, -1,  0,  1,  2,  3,  4],\n",
       "       [-5, -4, -3, -2, -1,  0,  1,  2,  3,  4],\n",
       "       [-5, -4, -3, -2, -1,  0,  1,  2,  3,  4],\n",
       "       [-5, -4, -3, -2, -1,  0,  1,  2,  3,  4],\n",
       "       [-5, -4, -3, -2, -1,  0,  1,  2,  3,  4],\n",
       "       [-5, -4, -3, -2, -1,  0,  1,  2,  3,  4],\n",
       "       [-5, -4, -3, -2, -1,  0,  1,  2,  3,  4]])"
      ]
     },
     "execution_count": 87,
     "metadata": {},
     "output_type": "execute_result"
    }
   ],
   "source": [
    "xs, ys = np.meshgrid(points, points)\n",
    "xs"
   ]
  },
  {
   "cell_type": "code",
   "execution_count": 88,
   "metadata": {
    "_cell_guid": "2da2cd8a-9121-4c34-896a-3ab0fa558a43",
    "_uuid": "f45a01ee850dd4f4267d438569003f8a6e0991bc"
   },
   "outputs": [
    {
     "data": {
      "text/plain": [
       "(10, 10)"
      ]
     },
     "execution_count": 88,
     "metadata": {},
     "output_type": "execute_result"
    }
   ],
   "source": [
    "xs.shape"
   ]
  },
  {
   "cell_type": "code",
   "execution_count": 89,
   "metadata": {
    "_cell_guid": "87b6d5f0-72cd-40b8-a009-e3950a761962",
    "_uuid": "e57df8e4bf4fd8f5f05681e5cbc28795af95e822"
   },
   "outputs": [
    {
     "data": {
      "text/plain": [
       "array([[7.07106781, 6.40312424, 5.83095189, 5.38516481, 5.09901951,\n",
       "        5.        , 5.09901951, 5.38516481, 5.83095189, 6.40312424],\n",
       "       [6.40312424, 5.65685425, 5.        , 4.47213595, 4.12310563,\n",
       "        4.        , 4.12310563, 4.47213595, 5.        , 5.65685425],\n",
       "       [5.83095189, 5.        , 4.24264069, 3.60555128, 3.16227766,\n",
       "        3.        , 3.16227766, 3.60555128, 4.24264069, 5.        ],\n",
       "       [5.38516481, 4.47213595, 3.60555128, 2.82842712, 2.23606798,\n",
       "        2.        , 2.23606798, 2.82842712, 3.60555128, 4.47213595],\n",
       "       [5.09901951, 4.12310563, 3.16227766, 2.23606798, 1.41421356,\n",
       "        1.        , 1.41421356, 2.23606798, 3.16227766, 4.12310563],\n",
       "       [5.        , 4.        , 3.        , 2.        , 1.        ,\n",
       "        0.        , 1.        , 2.        , 3.        , 4.        ],\n",
       "       [5.09901951, 4.12310563, 3.16227766, 2.23606798, 1.41421356,\n",
       "        1.        , 1.41421356, 2.23606798, 3.16227766, 4.12310563],\n",
       "       [5.38516481, 4.47213595, 3.60555128, 2.82842712, 2.23606798,\n",
       "        2.        , 2.23606798, 2.82842712, 3.60555128, 4.47213595],\n",
       "       [5.83095189, 5.        , 4.24264069, 3.60555128, 3.16227766,\n",
       "        3.        , 3.16227766, 3.60555128, 4.24264069, 5.        ],\n",
       "       [6.40312424, 5.65685425, 5.        , 4.47213595, 4.12310563,\n",
       "        4.        , 4.12310563, 4.47213595, 5.        , 5.65685425]])"
      ]
     },
     "execution_count": 89,
     "metadata": {},
     "output_type": "execute_result"
    }
   ],
   "source": [
    "import matplotlib.pyplot as plt\n",
    "z = np.sqrt(xs **2 + ys ** 2)\n",
    "z"
   ]
  },
  {
   "cell_type": "code",
   "execution_count": 90,
   "metadata": {
    "_cell_guid": "3f97af69-847b-47e6-89d0-65bc52e81a37",
    "_uuid": "d5484ceee04b058bc4e4f9cd0a8141ddc8356768",
    "scrolled": true
   },
   "outputs": [
    {
     "data": {
      "text/plain": [
       "Text(0.5,1,'Image plot of $\\\\sqrt{x^2 + y^2}$ for a grid of values')"
      ]
     },
     "execution_count": 90,
     "metadata": {},
     "output_type": "execute_result"
    }
   ],
   "source": [
    "plt.imshow(z, cmap = plt.cm.gray); plt.colorbar(); plt.title(\"Image plot of $\\sqrt{x^2 + y^2}$ for a grid of values\")"
   ]
  },
  {
   "cell_type": "code",
   "execution_count": 91,
   "metadata": {
    "_cell_guid": "3fb939fc-faea-4d00-a84b-68da8684e520",
    "_uuid": "5617bdac77e7a39eab29bc084322298f58639000"
   },
   "outputs": [
    {
     "data": {
      "text/plain": [
       "array([[50, 41, 34, 29, 26, 25, 26, 29, 34, 41],\n",
       "       [41, 32, 25, 20, 17, 16, 17, 20, 25, 32],\n",
       "       [34, 25, 18, 13, 10,  9, 10, 13, 18, 25],\n",
       "       [29, 20, 13,  8,  5,  4,  5,  8, 13, 20],\n",
       "       [26, 17, 10,  5,  2,  1,  2,  5, 10, 17],\n",
       "       [25, 16,  9,  4,  1,  0,  1,  4,  9, 16],\n",
       "       [26, 17, 10,  5,  2,  1,  2,  5, 10, 17],\n",
       "       [29, 20, 13,  8,  5,  4,  5,  8, 13, 20],\n",
       "       [34, 25, 18, 13, 10,  9, 10, 13, 18, 25],\n",
       "       [41, 32, 25, 20, 17, 16, 17, 20, 25, 32]])"
      ]
     },
     "execution_count": 91,
     "metadata": {},
     "output_type": "execute_result"
    }
   ],
   "source": [
    "xs**2 + ys**2"
   ]
  },
  {
   "cell_type": "markdown",
   "metadata": {
    "_cell_guid": "55c72aab-3baf-4c4b-ab9b-57d059d4de85",
    "_uuid": "7ba2be02a40c3c9fd9c838d21668852559dbf010",
    "collapsed": true
   },
   "source": [
    "## Expressing conditional logic as array operations"
   ]
  },
  {
   "cell_type": "code",
   "execution_count": 92,
   "metadata": {
    "_cell_guid": "c3c6959b-91a3-441b-9b03-be2982abefac",
    "_uuid": "a545c7232364d0450bb5ab4cec5dc3d501d43673",
    "collapsed": true
   },
   "outputs": [],
   "source": [
    "xarr = np.array([1.1, 1.2, 1.3, 1.4, 1.5])"
   ]
  },
  {
   "cell_type": "code",
   "execution_count": 93,
   "metadata": {
    "_cell_guid": "461912f1-c513-4908-9158-1fb4cda2997c",
    "_uuid": "800e9b37dd43925c6b5c9127ea907e22b1fa29b5",
    "collapsed": true
   },
   "outputs": [],
   "source": [
    "yarr = np.array([2.1, 2.2, 2.3, 2.4, 2.5])"
   ]
  },
  {
   "cell_type": "code",
   "execution_count": 94,
   "metadata": {
    "_cell_guid": "aca50376-199d-4d91-9930-0b053db7d89b",
    "_uuid": "fc9f238da1e7591a62cdc066a512562ca7ac00d4",
    "collapsed": true
   },
   "outputs": [],
   "source": [
    "cond = np.array([True, False, True, True, False])"
   ]
  },
  {
   "cell_type": "markdown",
   "metadata": {
    "_cell_guid": "e27bd35c-b364-41c5-9dfa-f49544d0052e",
    "_uuid": "3a52870187702926765fab603938173d3f0b808b"
   },
   "source": [
    "下面代码的意思是，result里面装的东西，当c是true的时候，用x，当 c是false，用y"
   ]
  },
  {
   "cell_type": "code",
   "execution_count": 95,
   "metadata": {
    "_cell_guid": "15f00b76-eb9f-4fab-9e30-336eb57bfb29",
    "_uuid": "02678346da46e434723510f5861c3d83c430b016"
   },
   "outputs": [
    {
     "data": {
      "text/plain": [
       "[1.1, 2.2, 1.3, 1.4, 2.5]"
      ]
     },
     "execution_count": 95,
     "metadata": {},
     "output_type": "execute_result"
    }
   ],
   "source": [
    "result = [(x if c else y)\n",
    "for x, y, c in zip(xarr, yarr, cond)]\n",
    "result"
   ]
  },
  {
   "cell_type": "markdown",
   "metadata": {
    "_cell_guid": "354aea72-829a-4c79-bdea-afa3797a4fd8",
    "_uuid": "50e36880da018979b10eadf6e537dbccb3545658"
   },
   "source": [
    "## np.where\n",
    "下面这个方法更好！使用np.where"
   ]
  },
  {
   "cell_type": "code",
   "execution_count": 96,
   "metadata": {
    "_cell_guid": "4e068778-4c6a-4089-9399-17f8473661af",
    "_uuid": "6f1247ff8f89b0cf861dc7c8b7a3a8ec04ec0156"
   },
   "outputs": [
    {
     "data": {
      "text/plain": [
       "array([1.1, 2.2, 1.3, 1.4, 2.5])"
      ]
     },
     "execution_count": 96,
     "metadata": {},
     "output_type": "execute_result"
    }
   ],
   "source": [
    "result = np.where(cond, xarr, yarr)\n",
    "result"
   ]
  },
  {
   "cell_type": "markdown",
   "metadata": {
    "_cell_guid": "bc15d64c-bbd9-4ce5-ab10-56581f9d00b2",
    "_uuid": "a653a368ab6da3f0bb55d30d051b455435de1fd8"
   },
   "source": [
    "np.where的好处是，可以根据原矩阵的数值，来得到新的矩阵。"
   ]
  },
  {
   "cell_type": "code",
   "execution_count": 97,
   "metadata": {
    "_cell_guid": "a8f61bf3-8820-4f20-93de-19792a82bc89",
    "_uuid": "b888f873f183e99041668002094b60f7bad5db62"
   },
   "outputs": [
    {
     "data": {
      "text/plain": [
       "array([[ 0.02898089, -0.84428608, -0.36779058, -0.42359129],\n",
       "       [ 0.7773167 , -0.45746246,  0.61216003,  0.55246493],\n",
       "       [ 2.35800646,  0.7733755 , -0.59653538,  0.23957353],\n",
       "       [-0.91224608,  0.05099432,  1.93672297,  0.01699996]])"
      ]
     },
     "execution_count": 97,
     "metadata": {},
     "output_type": "execute_result"
    }
   ],
   "source": [
    "arr = np.random.randn(4,4)\n",
    "arr"
   ]
  },
  {
   "cell_type": "markdown",
   "metadata": {
    "_cell_guid": "ba3a89a5-f79c-42dd-97e6-cef42ef6c890",
    "_uuid": "ceee4acbeca773aeab4aaa5232dd3349e7b2c2b9"
   },
   "source": [
    "arr里大于0，变成2， "
   ]
  },
  {
   "cell_type": "code",
   "execution_count": 98,
   "metadata": {
    "_cell_guid": "283e7165-dbc2-4fd7-a122-dd363e614f81",
    "_uuid": "e13c30fb3c6598f0582eae471f3b93ba2efb470e"
   },
   "outputs": [
    {
     "data": {
      "text/plain": [
       "array([[ 2, -2, -2, -2],\n",
       "       [ 2, -2,  2,  2],\n",
       "       [ 2,  2, -2,  2],\n",
       "       [-2,  2,  2,  2]])"
      ]
     },
     "execution_count": 98,
     "metadata": {},
     "output_type": "execute_result"
    }
   ],
   "source": [
    "np.where(arr > 0, 2, -2)"
   ]
  },
  {
   "cell_type": "markdown",
   "metadata": {
    "_cell_guid": "5f3b2913-056a-4ab1-ba9c-c51bba4af5e0",
    "_uuid": "fefc29165f8a0bbc36743163543ce05522a3c4dc"
   },
   "source": [
    "set only positive values to be 2"
   ]
  },
  {
   "cell_type": "code",
   "execution_count": 99,
   "metadata": {
    "_cell_guid": "516a4296-c318-4136-9df5-465b1620933c",
    "_uuid": "5498530de209a189caff28a59682fd217d8efabf"
   },
   "outputs": [
    {
     "data": {
      "text/plain": [
       "array([[ 2.        , -0.84428608, -0.36779058, -0.42359129],\n",
       "       [ 2.        , -0.45746246,  2.        ,  2.        ],\n",
       "       [ 2.        ,  2.        , -0.59653538,  2.        ],\n",
       "       [-0.91224608,  2.        ,  2.        ,  2.        ]])"
      ]
     },
     "execution_count": 99,
     "metadata": {},
     "output_type": "execute_result"
    }
   ],
   "source": [
    "np.where(arr > 0, 2, arr)"
   ]
  },
  {
   "cell_type": "code",
   "execution_count": 100,
   "metadata": {
    "_uuid": "bbec8d0aa87ae9b314e18b966e0aed40ceb0928f"
   },
   "outputs": [
    {
     "data": {
      "text/plain": [
       "(array([1, 2, 3, 5]),)"
      ]
     },
     "execution_count": 100,
     "metadata": {},
     "output_type": "execute_result"
    }
   ],
   "source": [
    "test = np.array([1,2,3,4,-1,3,-5,-9,1])\n",
    "np.where(test > 1)"
   ]
  },
  {
   "cell_type": "code",
   "execution_count": 101,
   "metadata": {
    "_uuid": "192eab4995adeb8c93c9abc419f696208a9396c1"
   },
   "outputs": [
    {
     "data": {
      "text/plain": [
       "(array([0, 0, 0, 1]), array([1, 2, 3, 1]))"
      ]
     },
     "execution_count": 101,
     "metadata": {},
     "output_type": "execute_result"
    }
   ],
   "source": [
    "test = np.array([[1,2,3,4],[-1,3,-5,-9]])\n",
    "np.where(test > 1)"
   ]
  },
  {
   "cell_type": "code",
   "execution_count": 102,
   "metadata": {
    "_uuid": "cb38edfa78de62c3fb4edbc585947423dc9aa82a"
   },
   "outputs": [
    {
     "data": {
      "text/plain": [
       "array([2, 3, 4, 3])"
      ]
     },
     "execution_count": 102,
     "metadata": {},
     "output_type": "execute_result"
    }
   ],
   "source": [
    "test[np.where( test > 1 )]"
   ]
  },
  {
   "cell_type": "markdown",
   "metadata": {
    "_cell_guid": "d25761c7-16bc-4357-a676-79e63af1272c",
    "_uuid": "4a05f98cf8d99ac43e8faab843406d493b5ba0a1",
    "collapsed": true
   },
   "source": [
    "np.where 也可以嵌套。"
   ]
  },
  {
   "cell_type": "markdown",
   "metadata": {
    "_cell_guid": "b754b944-7a5a-4965-b725-5e32bad14d3f",
    "_uuid": "56c7d358c7c91795abe46cae5983fbfa29654fe2",
    "collapsed": true
   },
   "source": [
    "## Statistical_methods"
   ]
  },
  {
   "cell_type": "code",
   "execution_count": 103,
   "metadata": {
    "_cell_guid": "82d39efe-08a6-425e-8d53-1ad705cc32d5",
    "_uuid": "80afc057e006acef3c04992a45a52cf4c96f8a81",
    "collapsed": true
   },
   "outputs": [],
   "source": [
    "arr = np.random.randn(5, 4)"
   ]
  },
  {
   "cell_type": "code",
   "execution_count": 104,
   "metadata": {
    "_cell_guid": "2c549a29-e5a7-4b80-b8c8-95af4186caa2",
    "_uuid": "fe183778bce05434d5d01395124cb60864868f42"
   },
   "outputs": [
    {
     "data": {
      "text/plain": [
       "0.32356631556096066"
      ]
     },
     "execution_count": 104,
     "metadata": {},
     "output_type": "execute_result"
    }
   ],
   "source": [
    "arr.mean()"
   ]
  },
  {
   "cell_type": "code",
   "execution_count": 105,
   "metadata": {
    "_cell_guid": "0e900283-38e8-4c25-a1a6-9623bb47671e",
    "_uuid": "2aa282e0c351dc9a0d421e25269f86ad965ebe23"
   },
   "outputs": [
    {
     "data": {
      "text/plain": [
       "0.32356631556096066"
      ]
     },
     "execution_count": 105,
     "metadata": {},
     "output_type": "execute_result"
    }
   ],
   "source": [
    "np.mean(arr)"
   ]
  },
  {
   "cell_type": "code",
   "execution_count": 106,
   "metadata": {
    "_cell_guid": "bdb81695-96eb-4020-bb9c-dba19939e8dc",
    "_uuid": "31d94167b96addc9f4642f2f4c5f8c5694380b5c"
   },
   "outputs": [
    {
     "data": {
      "text/plain": [
       "6.471326311219213"
      ]
     },
     "execution_count": 106,
     "metadata": {},
     "output_type": "execute_result"
    }
   ],
   "source": [
    "arr.sum()"
   ]
  },
  {
   "cell_type": "markdown",
   "metadata": {
    "_cell_guid": "1e5b45fd-3952-4679-9365-5cff4b8dc96b",
    "_uuid": "fbb5b2860dcf3e40b593afdd2536a1eb9c899344",
    "collapsed": true
   },
   "source": [
    "1. 1. mean和sum的函数，可以传入一个axis的argument。\n",
    "以最简单的二维为例。如果axis = 0，那么就是每一列作为一个整体。如果axis = 1,那么就是每一行作为一个整体。"
   ]
  },
  {
   "cell_type": "code",
   "execution_count": 107,
   "metadata": {
    "_cell_guid": "f70cbec0-bfbf-4695-9d03-b085ff81fbf6",
    "_uuid": "77ec142070f2e3297de744917c69dce8d1c792fc",
    "collapsed": true
   },
   "outputs": [],
   "source": [
    "arr = np.array([[1,2,3],[2,3,4]])"
   ]
  },
  {
   "cell_type": "code",
   "execution_count": 108,
   "metadata": {
    "_cell_guid": "2be69156-aa81-428e-afbc-550179671776",
    "_uuid": "4dd17bb22e4beac79f0b841eb6fad885de23d50a"
   },
   "outputs": [
    {
     "data": {
      "text/plain": [
       "array([1.5, 2.5, 3.5])"
      ]
     },
     "execution_count": 108,
     "metadata": {},
     "output_type": "execute_result"
    }
   ],
   "source": [
    "arr.mean(axis = 0)"
   ]
  },
  {
   "cell_type": "code",
   "execution_count": 109,
   "metadata": {
    "_cell_guid": "8d1a4a76-3c5b-4789-9321-c3c7be49a030",
    "_uuid": "f92502ab4107b0b3a2b98b2cfd5068aa411874d5"
   },
   "outputs": [
    {
     "data": {
      "text/plain": [
       "array([3, 5, 7])"
      ]
     },
     "execution_count": 109,
     "metadata": {},
     "output_type": "execute_result"
    }
   ],
   "source": [
    "arr.sum(axis = 0)"
   ]
  },
  {
   "cell_type": "code",
   "execution_count": 110,
   "metadata": {
    "_cell_guid": "2b0f91ca-4c3f-4973-8815-b9f7aa53625d",
    "_uuid": "55c391234365fb77daa584c058f4d232c8ff3639"
   },
   "outputs": [
    {
     "data": {
      "text/plain": [
       "array([2., 3.])"
      ]
     },
     "execution_count": 110,
     "metadata": {},
     "output_type": "execute_result"
    }
   ],
   "source": [
    "arr.mean(axis = 1)"
   ]
  },
  {
   "cell_type": "code",
   "execution_count": 111,
   "metadata": {
    "_cell_guid": "84b30dde-ffd6-4db9-b3f1-0fcade301dee",
    "_uuid": "f8938ceb4e433574f4588d505969520b52bcda7b"
   },
   "outputs": [
    {
     "data": {
      "text/plain": [
       "array([6, 9])"
      ]
     },
     "execution_count": 111,
     "metadata": {},
     "output_type": "execute_result"
    }
   ],
   "source": [
    "arr.sum(axis = 1)"
   ]
  },
  {
   "cell_type": "markdown",
   "metadata": {
    "_cell_guid": "418387ff-d0d4-4070-a009-b6c3d5fecb29",
    "_uuid": "66bbc7bdb50f5f8ffe8275e8bd1d1c937f30e6d7"
   },
   "source": [
    "还有一些method，不是把所有数据一起计算的，而是根据axis计算。\n",
    "cumsum: 计算某一条轴上的累加和。cuprod同理。"
   ]
  },
  {
   "cell_type": "code",
   "execution_count": 112,
   "metadata": {
    "_cell_guid": "25bd3aba-4290-4709-a8b9-bd896013426a",
    "_uuid": "fbcb7f5bb9ec9cc1b4770bab79106674071a3240",
    "collapsed": true
   },
   "outputs": [],
   "source": [
    "arr = np.array([[0, 1, 2], [3, 4, 5], [6, 7, 8]])"
   ]
  },
  {
   "cell_type": "code",
   "execution_count": 113,
   "metadata": {
    "_cell_guid": "d426555c-5093-4138-96c2-5e1ebdb33188",
    "_uuid": "af522f56a03c2afa8ac9428b6932a4af7115516b"
   },
   "outputs": [
    {
     "data": {
      "text/plain": [
       "array([[ 0,  1,  2],\n",
       "       [ 3,  5,  7],\n",
       "       [ 9, 12, 15]])"
      ]
     },
     "execution_count": 113,
     "metadata": {},
     "output_type": "execute_result"
    }
   ],
   "source": [
    "arr.cumsum(0)"
   ]
  },
  {
   "cell_type": "code",
   "execution_count": 114,
   "metadata": {
    "_cell_guid": "dcb37f8e-bc61-442a-8c55-a9e1cef55c31",
    "_uuid": "886b3ff3e8fdb8b44104b48481a09ce3a425610e"
   },
   "outputs": [
    {
     "data": {
      "text/plain": [
       "array([[ 0,  1,  2],\n",
       "       [ 0,  4, 10],\n",
       "       [ 0, 28, 80]])"
      ]
     },
     "execution_count": 114,
     "metadata": {},
     "output_type": "execute_result"
    }
   ],
   "source": [
    "arr.cumprod(0)"
   ]
  },
  {
   "cell_type": "code",
   "execution_count": 115,
   "metadata": {
    "_cell_guid": "4df68924-e23d-42c2-b083-6ea5bdfd3c7a",
    "_uuid": "fc5a1f93b31f252c7b19684e1783607a149cc8b2"
   },
   "outputs": [
    {
     "data": {
      "text/plain": [
       "array([[ 0,  1,  3],\n",
       "       [ 3,  7, 12],\n",
       "       [ 6, 13, 21]])"
      ]
     },
     "execution_count": 115,
     "metadata": {},
     "output_type": "execute_result"
    }
   ],
   "source": [
    "arr.cumsum(1)"
   ]
  },
  {
   "cell_type": "code",
   "execution_count": 116,
   "metadata": {
    "_cell_guid": "a5a89a7c-8c82-4f05-919e-912c2e213393",
    "_uuid": "eb228f896bc5848629c60ab3ecb02b199b0d29a0"
   },
   "outputs": [
    {
     "data": {
      "text/plain": [
       "array([[  0,   0,   0],\n",
       "       [  3,  12,  60],\n",
       "       [  6,  42, 336]])"
      ]
     },
     "execution_count": 116,
     "metadata": {},
     "output_type": "execute_result"
    }
   ],
   "source": [
    "arr.cumprod(1)"
   ]
  },
  {
   "cell_type": "markdown",
   "metadata": {
    "_cell_guid": "947bf814-46b8-4cb6-9627-1350116bbf5f",
    "_uuid": "62ed344ea2c8748a2ddb709d44ed9761a9c5f8a3"
   },
   "source": [
    "其他一些method： std, var, min, max。argmin和argmax是输出第一次遇见的最大最小元素的index。"
   ]
  },
  {
   "cell_type": "code",
   "execution_count": 117,
   "metadata": {
    "_cell_guid": "b389a331-6a04-4e3c-87c1-a30fb7a800b7",
    "_uuid": "f8145f5341dec1dd0e006c4d698473e4118946f0"
   },
   "outputs": [
    {
     "data": {
      "text/plain": [
       "8"
      ]
     },
     "execution_count": 117,
     "metadata": {},
     "output_type": "execute_result"
    }
   ],
   "source": [
    "arr.argmax()"
   ]
  },
  {
   "cell_type": "markdown",
   "metadata": {
    "_cell_guid": "43feccca-edec-41fb-a4ab-42fcb1d68c91",
    "_uuid": "8a9d7d8e8122625366e58873f8b6ad70b913999a",
    "collapsed": true
   },
   "source": [
    "Methods for boolean arrays"
   ]
  },
  {
   "cell_type": "code",
   "execution_count": 118,
   "metadata": {
    "_cell_guid": "78e5d920-2441-46b5-9c70-bafffc5ce2be",
    "_uuid": "6b8272b4df19ec122b0d1d7d98c4d1820de35831"
   },
   "outputs": [
    {
     "data": {
      "text/plain": [
       "array([-0.44009372,  0.96122914,  0.38874541,  0.9306418 ,  0.63345499,\n",
       "       -1.466116  ,  0.98618269,  0.80357824,  0.360787  , -0.7884637 ])"
      ]
     },
     "execution_count": 118,
     "metadata": {},
     "output_type": "execute_result"
    }
   ],
   "source": [
    "arr = np.random.randn(10)\n",
    "arr"
   ]
  },
  {
   "cell_type": "code",
   "execution_count": 119,
   "metadata": {
    "_cell_guid": "772b8a76-178e-4bab-a55d-d550fbad757e",
    "_uuid": "e5d5f99c5a3b275eeefedbf1004f763da576b4c7"
   },
   "outputs": [
    {
     "data": {
      "text/plain": [
       "7"
      ]
     },
     "execution_count": 119,
     "metadata": {},
     "output_type": "execute_result"
    }
   ],
   "source": [
    "#正数的个数，而不是求和！！\n",
    "(arr > 0).sum()"
   ]
  },
  {
   "cell_type": "markdown",
   "metadata": {
    "_cell_guid": "6d1af7f7-b06a-429b-bc1d-7cef8d6b2c61",
    "_uuid": "6c1f055c114abffd615abc49152c30c536dd7698"
   },
   "source": [
    "## Sorting\n",
    "可以使用py自带的sort()"
   ]
  },
  {
   "cell_type": "code",
   "execution_count": 120,
   "metadata": {
    "_cell_guid": "635a290b-320d-49ea-8500-04bb17271140",
    "_uuid": "268703dc3ccada6cc88f412c5eb4fdab5dd5faa6"
   },
   "outputs": [
    {
     "data": {
      "text/plain": [
       "array([-1.466116  , -0.7884637 , -0.44009372,  0.360787  ,  0.38874541,\n",
       "        0.63345499,  0.80357824,  0.9306418 ,  0.96122914,  0.98618269])"
      ]
     },
     "execution_count": 120,
     "metadata": {},
     "output_type": "execute_result"
    }
   ],
   "source": [
    "arr.sort()\n",
    "arr"
   ]
  },
  {
   "cell_type": "markdown",
   "metadata": {
    "_cell_guid": "0ad68e2f-d20f-4ed5-9617-43f336451047",
    "_uuid": "b6fb73eccd0e91b686232c13cedec7e7e757d270"
   },
   "source": [
    "多维的矩阵，可以限定根据哪一个轴去排序。\n",
    "下面这个例子就是一行一行排序。"
   ]
  },
  {
   "cell_type": "code",
   "execution_count": 121,
   "metadata": {
    "_cell_guid": "256b2544-89b8-45b2-8478-9c2effb812e3",
    "_uuid": "fc6044499c2558dced43aa6fc62d7de7a34c0b7b"
   },
   "outputs": [
    {
     "data": {
      "text/plain": [
       "array([[-0.23412133, -0.23680159,  1.16188871],\n",
       "       [ 0.51634367, -1.64838541, -0.21094101],\n",
       "       [-0.89966821, -0.87221449,  1.28083033],\n",
       "       [-1.56996756,  2.51283386,  0.31369821],\n",
       "       [ 0.66164525, -1.08393192, -0.24728652]])"
      ]
     },
     "execution_count": 121,
     "metadata": {},
     "output_type": "execute_result"
    }
   ],
   "source": [
    "arr = np.random.randn(5,3)\n",
    "arr"
   ]
  },
  {
   "cell_type": "code",
   "execution_count": 122,
   "metadata": {
    "_cell_guid": "3ab5be2d-e26e-47c0-a39d-ea8895df325c",
    "_uuid": "75746aa1903adc8de913c157a2b536ebd5e1b1bf"
   },
   "outputs": [
    {
     "data": {
      "text/plain": [
       "array([[-0.23680159, -0.23412133,  1.16188871],\n",
       "       [-1.64838541, -0.21094101,  0.51634367],\n",
       "       [-0.89966821, -0.87221449,  1.28083033],\n",
       "       [-1.56996756,  0.31369821,  2.51283386],\n",
       "       [-1.08393192, -0.24728652,  0.66164525]])"
      ]
     },
     "execution_count": 122,
     "metadata": {},
     "output_type": "execute_result"
    }
   ],
   "source": [
    "arr.sort(1)\n",
    "arr"
   ]
  },
  {
   "cell_type": "code",
   "execution_count": 123,
   "metadata": {
    "_cell_guid": "075f4c28-4258-4f90-9238-699208a1aa0e",
    "_uuid": "0196dd568a179de7210ccf2f6595a84bca27705f"
   },
   "outputs": [
    {
     "data": {
      "text/plain": [
       "array([[-1.64838541, -0.87221449,  0.51634367],\n",
       "       [-1.56996756, -0.24728652,  0.66164525],\n",
       "       [-1.08393192, -0.23412133,  1.16188871],\n",
       "       [-0.89966821, -0.21094101,  1.28083033],\n",
       "       [-0.23680159,  0.31369821,  2.51283386]])"
      ]
     },
     "execution_count": 123,
     "metadata": {},
     "output_type": "execute_result"
    }
   ],
   "source": [
    "#试试每列排序。\n",
    "arr.sort(0)\n",
    "arr"
   ]
  },
  {
   "cell_type": "markdown",
   "metadata": {
    "_cell_guid": "7e482148-168b-4114-9418-a80d1de6e3eb",
    "_uuid": "325e6822fe0d3b4cc06b24815e709b0e43685170"
   },
   "source": [
    "np.sort()则是in place地排序，而是复制了原矩阵，排序被复制的，原来矩阵不变。如下："
   ]
  },
  {
   "cell_type": "code",
   "execution_count": 124,
   "metadata": {
    "_cell_guid": "5e7b7e7a-6f87-41cc-a080-54e8f81bfefb",
    "_uuid": "4363a2ee6d75bf5a8c9848694683fe3ea5f6a1a4"
   },
   "outputs": [
    {
     "data": {
      "text/plain": [
       "array([[-1.33622891e+00, -6.73539504e-01,  1.13150326e+00],\n",
       "       [-1.19464207e+00,  1.40236454e-01,  8.23635664e-01],\n",
       "       [-3.69341006e-01, -1.22342234e-03,  3.78130940e-01],\n",
       "       [-1.04873656e-01,  4.40983887e-01,  2.46368729e+00],\n",
       "       [-5.94514333e-01,  1.11591733e+00,  1.98206044e+00]])"
      ]
     },
     "execution_count": 124,
     "metadata": {},
     "output_type": "execute_result"
    }
   ],
   "source": [
    "arr = np.random.randn(5,3)\n",
    "np.sort(arr)"
   ]
  },
  {
   "cell_type": "code",
   "execution_count": 125,
   "metadata": {
    "_cell_guid": "70e5480a-65ed-4a30-9685-30a1085a4eb2",
    "_uuid": "5f612d5aeb0bd18edf0bf8d40d0ff67cd9f63e60"
   },
   "outputs": [
    {
     "data": {
      "text/plain": [
       "array([[-6.73539504e-01, -1.33622891e+00,  1.13150326e+00],\n",
       "       [ 8.23635664e-01, -1.19464207e+00,  1.40236454e-01],\n",
       "       [-3.69341006e-01,  3.78130940e-01, -1.22342234e-03],\n",
       "       [ 4.40983887e-01, -1.04873656e-01,  2.46368729e+00],\n",
       "       [ 1.98206044e+00,  1.11591733e+00, -5.94514333e-01]])"
      ]
     },
     "execution_count": 125,
     "metadata": {},
     "output_type": "execute_result"
    }
   ],
   "source": [
    "arr"
   ]
  },
  {
   "cell_type": "markdown",
   "metadata": {
    "_cell_guid": "44617897-a844-4dc9-bf50-d174e6051f0c",
    "_uuid": "2742187fd401d68559666a60bcc1378dd7409a4b"
   },
   "source": [
    "## Unique and other set logic\n",
    "这个很重要！！\n",
    "## np.unique\n",
    "这个函数返回的结果是sort过的。"
   ]
  },
  {
   "cell_type": "code",
   "execution_count": 126,
   "metadata": {
    "_cell_guid": "2ed980f8-23b1-47ba-a245-27e02838d82d",
    "_uuid": "742dd26d6b5057879112a063c057802c53b7aafd"
   },
   "outputs": [
    {
     "data": {
      "text/plain": [
       "array(['Bob', 'Joe', 'Will'], dtype='<U4')"
      ]
     },
     "execution_count": 126,
     "metadata": {},
     "output_type": "execute_result"
    }
   ],
   "source": [
    "names = np.array(['Bob', 'Joe', 'Will', 'Bob', 'Will', 'Joe', 'Joe'])\n",
    "np.unique(names)"
   ]
  },
  {
   "cell_type": "code",
   "execution_count": 127,
   "metadata": {
    "_cell_guid": "185e91ee-132c-4f86-b38d-4e2e5b3184a5",
    "_uuid": "d53ceca936e5f2251c7e68a8205c8ea578408123"
   },
   "outputs": [
    {
     "data": {
      "text/plain": [
       "array([1, 2, 3, 4])"
      ]
     },
     "execution_count": 127,
     "metadata": {},
     "output_type": "execute_result"
    }
   ],
   "source": [
    "ints = np.array([3, 3, 3, 2, 2, 1, 1, 4, 4])\n",
    "np.unique(ints)"
   ]
  },
  {
   "cell_type": "code",
   "execution_count": 128,
   "metadata": {
    "_cell_guid": "6fd434c1-d55a-489d-86e6-c0eecbeb3624",
    "_uuid": "08889980c7e7200289b0517697b8291e2948956a"
   },
   "outputs": [
    {
     "data": {
      "text/plain": [
       "['Bob', 'Joe', 'Will']"
      ]
     },
     "execution_count": 128,
     "metadata": {},
     "output_type": "execute_result"
    }
   ],
   "source": [
    "#对比一下使用python 原生的方法\n",
    "sorted(set(names))"
   ]
  },
  {
   "cell_type": "markdown",
   "metadata": {
    "_cell_guid": "555e2f59-7443-4a84-90ab-dc3dc8716ba7",
    "_uuid": "9399086d79eb1694b86844b500666b7f72dbf092"
   },
   "source": [
    "np.in1d的作用是看他的成员在另一个矩阵的出现与否。可以作为一种筛选的方法。\n",
    "## np.in1d"
   ]
  },
  {
   "cell_type": "code",
   "execution_count": 129,
   "metadata": {
    "_cell_guid": "9e0ec7cb-c2d5-4265-b61b-ae8a45fd1311",
    "_uuid": "524655be76cb2b854e41e49ba0141f0115001ad2"
   },
   "outputs": [
    {
     "data": {
      "text/plain": [
       "array([ True, False, False,  True,  True, False,  True])"
      ]
     },
     "execution_count": 129,
     "metadata": {},
     "output_type": "execute_result"
    }
   ],
   "source": [
    "values = np.array([6, 0, 0, 3, 2, 5, 6])\n",
    "np.in1d(values, [2,3,6])"
   ]
  },
  {
   "cell_type": "markdown",
   "metadata": {
    "_cell_guid": "c9ea2100-4564-4afd-a275-b1ff8e9b88a2",
    "_uuid": "857e84bf5c3496c8523cb685171fdef554d08bbf"
   },
   "source": [
    "## other_functions\n",
    "\n",
    "np.intersect1d(x,y)能返回共同的元素。\n",
    "union1d(x,y)返回所有unique元素。\n",
    "np.setdiff1d(x,y)找出在x但不在y的\n",
    "setxor1d(x,y)找出只在x或y的元素。\n"
   ]
  },
  {
   "cell_type": "code",
   "execution_count": 130,
   "metadata": {
    "_cell_guid": "9b69bc60-69fd-43f2-884d-d8ba1379a30a",
    "_uuid": "edc4830c57c112002471e6d61e770ca28a69306e",
    "collapsed": true
   },
   "outputs": [],
   "source": [
    "values2 = np.array([6, 1, 1, 4, 2, 5, 6])\n"
   ]
  },
  {
   "cell_type": "code",
   "execution_count": 131,
   "metadata": {
    "_cell_guid": "129b981f-a1c2-4572-a00c-3337fbf08ac1",
    "_uuid": "a583c230522b6cacbd0ac75c6a237867e8a8492a"
   },
   "outputs": [
    {
     "data": {
      "text/plain": [
       "array([0, 3])"
      ]
     },
     "execution_count": 131,
     "metadata": {},
     "output_type": "execute_result"
    }
   ],
   "source": [
    "np.setdiff1d(values, values2)"
   ]
  },
  {
   "cell_type": "code",
   "execution_count": 132,
   "metadata": {
    "_cell_guid": "77f26efd-6055-4a09-9f47-f77588945bad",
    "_uuid": "3f776d2f752665e30a62e51ad6b4c5646aee3091"
   },
   "outputs": [
    {
     "data": {
      "text/plain": [
       "array([0, 1, 3, 4])"
      ]
     },
     "execution_count": 132,
     "metadata": {},
     "output_type": "execute_result"
    }
   ],
   "source": [
    "np.setxor1d(values, values2)"
   ]
  }
 ],
 "metadata": {
  "kernelspec": {
   "display_name": "Python 3",
   "language": "python",
   "name": "python3"
  },
  "language_info": {
   "codemirror_mode": {
    "name": "ipython",
    "version": 3
   },
   "file_extension": ".py",
   "mimetype": "text/x-python",
   "name": "python",
   "nbconvert_exporter": "python",
   "pygments_lexer": "ipython3",
   "version": "3.6.3"
  }
 },
 "nbformat": 4,
 "nbformat_minor": 1
}
